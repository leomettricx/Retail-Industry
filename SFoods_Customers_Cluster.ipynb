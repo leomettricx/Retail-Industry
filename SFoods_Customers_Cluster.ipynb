{
 "cells": [
  {
   "cell_type": "markdown",
   "metadata": {},
   "source": [
    "Definir:\n",
    "1 - Evolução quantitativa de clientes ativos por mês\n",
    "2 - Classificar os clientes por volume e frequencia de compra.\n",
    "3 - O que cada cliente compra e com que frequência.\n",
    "4 - Evolução dos produtos Oferecidos\n",
    "5 - Classificar produtos por tipo.Varios produtos identicos com códigos diferentes em função da embalagem\n",
    "6 - Análise geográfica x volume x produto"
   ]
  },
  {
   "cell_type": "code",
   "execution_count": 1,
   "metadata": {},
   "outputs": [
    {
     "data": {
      "text/plain": [
       "'Portuguese_Brazil.1252'"
      ]
     },
     "execution_count": 1,
     "metadata": {},
     "output_type": "execute_result"
    }
   ],
   "source": [
    "import pandas as pd\n",
    "import numpy as np\n",
    "import locale\n",
    "import matplotlib.pyplot as plt\n",
    "import seaborn as sns\n",
    "%matplotlib inline\n",
    "\n",
    "# Define Moeda Brasileira numeros R$ 1.000,00\n",
    "locale.setlocale( locale.LC_ALL, '' )\n",
    "#locale.currency( g, grouping = True )"
   ]
  },
  {
   "cell_type": "code",
   "execution_count": 2,
   "metadata": {},
   "outputs": [],
   "source": [
    "from numpy.random import randn\n",
    "#np.random.seed(101)"
   ]
  },
  {
   "cell_type": "code",
   "execution_count": 3,
   "metadata": {},
   "outputs": [],
   "source": [
    "# Abre o dataset\n",
    "df = pd.read_csv('C:/Mettricx/Projetos/SupraAlimentos/DataSet/NFe-SupraAlimentos.csv')\n"
   ]
  },
  {
   "cell_type": "code",
   "execution_count": 4,
   "metadata": {},
   "outputs": [
    {
     "data": {
      "text/html": [
       "<div>\n",
       "<style scoped>\n",
       "    .dataframe tbody tr th:only-of-type {\n",
       "        vertical-align: middle;\n",
       "    }\n",
       "\n",
       "    .dataframe tbody tr th {\n",
       "        vertical-align: top;\n",
       "    }\n",
       "\n",
       "    .dataframe thead th {\n",
       "        text-align: right;\n",
       "    }\n",
       "</style>\n",
       "<table border=\"1\" class=\"dataframe\">\n",
       "  <thead>\n",
       "    <tr style=\"text-align: right;\">\n",
       "      <th></th>\n",
       "      <th>cliente</th>\n",
       "      <th>NF</th>\n",
       "      <th>data</th>\n",
       "      <th>CNPJ</th>\n",
       "      <th>cidade</th>\n",
       "      <th>bairro</th>\n",
       "      <th>UF</th>\n",
       "      <th>cod</th>\n",
       "      <th>descricao</th>\n",
       "      <th>QTY</th>\n",
       "      <th>unidade</th>\n",
       "      <th>preco</th>\n",
       "    </tr>\n",
       "  </thead>\n",
       "  <tbody>\n",
       "    <tr>\n",
       "      <th>0</th>\n",
       "      <td>NF-E EMITIDA EM AMBIENTE DE HOMOLOGACAO - SEM ...</td>\n",
       "      <td>4</td>\n",
       "      <td>2014-08-29</td>\n",
       "      <td>27833615002018</td>\n",
       "      <td>RIO DE JANEIRO</td>\n",
       "      <td>CASIMIRO DE ABREU</td>\n",
       "      <td>RJ</td>\n",
       "      <td>20002</td>\n",
       "      <td>ALHO CEBOLA PICADINHO S/SAL 180GR</td>\n",
       "      <td>1</td>\n",
       "      <td>UN</td>\n",
       "      <td>2.77</td>\n",
       "    </tr>\n",
       "    <tr>\n",
       "      <th>1</th>\n",
       "      <td>NF-E EMITIDA EM AMBIENTE DE HOMOLOGACAO - SEM ...</td>\n",
       "      <td>5</td>\n",
       "      <td>2014-08-29</td>\n",
       "      <td>9309021000168</td>\n",
       "      <td>RIO DE JANEIRO</td>\n",
       "      <td>VILA NOVA DE CAMPOS</td>\n",
       "      <td>RJ</td>\n",
       "      <td>10002</td>\n",
       "      <td>ALECRIM 15GR</td>\n",
       "      <td>1</td>\n",
       "      <td>UN</td>\n",
       "      <td>1.11</td>\n",
       "    </tr>\n",
       "    <tr>\n",
       "      <th>2</th>\n",
       "      <td>NF-E EMITIDA EM AMBIENTE DE HOMOLOGACAO - SEM ...</td>\n",
       "      <td>6</td>\n",
       "      <td>2014-08-29</td>\n",
       "      <td>9309021000168</td>\n",
       "      <td>ANGRA DOS REIS</td>\n",
       "      <td>VILA NOVA DE CAMPOS</td>\n",
       "      <td>RJ</td>\n",
       "      <td>10001</td>\n",
       "      <td>ACAFRAO 15GR</td>\n",
       "      <td>12</td>\n",
       "      <td>UN</td>\n",
       "      <td>9.72</td>\n",
       "    </tr>\n",
       "    <tr>\n",
       "      <th>3</th>\n",
       "      <td>NF-E EMITIDA EM AMBIENTE DE HOMOLOGACAO - SEM ...</td>\n",
       "      <td>6</td>\n",
       "      <td>2014-08-29</td>\n",
       "      <td>9309021000168</td>\n",
       "      <td>ANGRA DOS REIS</td>\n",
       "      <td>VILA NOVA DE CAMPOS</td>\n",
       "      <td>RJ</td>\n",
       "      <td>10002</td>\n",
       "      <td>ALECRIM 15GR</td>\n",
       "      <td>1</td>\n",
       "      <td>UN</td>\n",
       "      <td>1.11</td>\n",
       "    </tr>\n",
       "    <tr>\n",
       "      <th>4</th>\n",
       "      <td>NF-E EMITIDA EM AMBIENTE DE HOMOLOGACAO - SEM ...</td>\n",
       "      <td>6</td>\n",
       "      <td>2014-08-29</td>\n",
       "      <td>9309021000168</td>\n",
       "      <td>ANGRA DOS REIS</td>\n",
       "      <td>VILA NOVA DE CAMPOS</td>\n",
       "      <td>RJ</td>\n",
       "      <td>10009</td>\n",
       "      <td>CALDO DE CARNE COM ERVAS FINAS 60GR</td>\n",
       "      <td>1</td>\n",
       "      <td>UN</td>\n",
       "      <td>1.43</td>\n",
       "    </tr>\n",
       "  </tbody>\n",
       "</table>\n",
       "</div>"
      ],
      "text/plain": [
       "                                             cliente  NF        data  \\\n",
       "0  NF-E EMITIDA EM AMBIENTE DE HOMOLOGACAO - SEM ...   4  2014-08-29   \n",
       "1  NF-E EMITIDA EM AMBIENTE DE HOMOLOGACAO - SEM ...   5  2014-08-29   \n",
       "2  NF-E EMITIDA EM AMBIENTE DE HOMOLOGACAO - SEM ...   6  2014-08-29   \n",
       "3  NF-E EMITIDA EM AMBIENTE DE HOMOLOGACAO - SEM ...   6  2014-08-29   \n",
       "4  NF-E EMITIDA EM AMBIENTE DE HOMOLOGACAO - SEM ...   6  2014-08-29   \n",
       "\n",
       "             CNPJ          cidade               bairro  UF    cod  \\\n",
       "0  27833615002018  RIO DE JANEIRO    CASIMIRO DE ABREU  RJ  20002   \n",
       "1   9309021000168  RIO DE JANEIRO  VILA NOVA DE CAMPOS  RJ  10002   \n",
       "2   9309021000168  ANGRA DOS REIS  VILA NOVA DE CAMPOS  RJ  10001   \n",
       "3   9309021000168  ANGRA DOS REIS  VILA NOVA DE CAMPOS  RJ  10002   \n",
       "4   9309021000168  ANGRA DOS REIS  VILA NOVA DE CAMPOS  RJ  10009   \n",
       "\n",
       "                             descricao  QTY unidade  preco  \n",
       "0    ALHO CEBOLA PICADINHO S/SAL 180GR    1      UN   2.77  \n",
       "1                         ALECRIM 15GR    1      UN   1.11  \n",
       "2                         ACAFRAO 15GR   12      UN   9.72  \n",
       "3                         ALECRIM 15GR    1      UN   1.11  \n",
       "4  CALDO DE CARNE COM ERVAS FINAS 60GR    1      UN   1.43  "
      ]
     },
     "execution_count": 4,
     "metadata": {},
     "output_type": "execute_result"
    }
   ],
   "source": [
    "df.head()"
   ]
  },
  {
   "cell_type": "code",
   "execution_count": null,
   "metadata": {},
   "outputs": [],
   "source": []
  },
  {
   "cell_type": "markdown",
   "metadata": {},
   "source": [
    "####  Total sales turnover in the period\n"
   ]
  },
  {
   "cell_type": "code",
   "execution_count": 5,
   "metadata": {},
   "outputs": [],
   "source": [
    "#g = float(\"{0:.2f}\".format(df['preco'].sum())) \n",
    "#FaturamentoTotal = locale.currency( g, grouping = True ) \n",
    "FaturamentoTotal=df['preco'].sum()\n"
   ]
  },
  {
   "cell_type": "code",
   "execution_count": 6,
   "metadata": {},
   "outputs": [
    {
     "data": {
      "text/plain": [
       "11677734.969999999"
      ]
     },
     "execution_count": 6,
     "metadata": {},
     "output_type": "execute_result"
    }
   ],
   "source": [
    "FaturamentoTotal"
   ]
  },
  {
   "cell_type": "markdown",
   "metadata": {
    "collapsed": true
   },
   "source": [
    "#### Purchases by Customers"
   ]
  },
  {
   "cell_type": "code",
   "execution_count": 7,
   "metadata": {},
   "outputs": [],
   "source": [
    "\n",
    "NFClientes = df[['cliente','CNPJ','NF','data']] "
   ]
  },
  {
   "cell_type": "code",
   "execution_count": 8,
   "metadata": {},
   "outputs": [],
   "source": [
    "NFClientes = NFClientes.drop_duplicates()"
   ]
  },
  {
   "cell_type": "code",
   "execution_count": 9,
   "metadata": {},
   "outputs": [],
   "source": [
    "NFClientes = NFClientes.sort_values(by=['cliente','data'],ascending=True, na_position='first').reset_index(drop=True)"
   ]
  },
  {
   "cell_type": "code",
   "execution_count": 10,
   "metadata": {},
   "outputs": [
    {
     "data": {
      "text/html": [
       "<div>\n",
       "<style scoped>\n",
       "    .dataframe tbody tr th:only-of-type {\n",
       "        vertical-align: middle;\n",
       "    }\n",
       "\n",
       "    .dataframe tbody tr th {\n",
       "        vertical-align: top;\n",
       "    }\n",
       "\n",
       "    .dataframe thead th {\n",
       "        text-align: right;\n",
       "    }\n",
       "</style>\n",
       "<table border=\"1\" class=\"dataframe\">\n",
       "  <thead>\n",
       "    <tr style=\"text-align: right;\">\n",
       "      <th></th>\n",
       "      <th>cliente</th>\n",
       "      <th>CNPJ</th>\n",
       "      <th>NF</th>\n",
       "      <th>data</th>\n",
       "    </tr>\n",
       "  </thead>\n",
       "  <tbody>\n",
       "    <tr>\n",
       "      <th>0</th>\n",
       "      <td>311 HAMILTON IMPORTACAO E EXPORTACAO EIRELI - ME</td>\n",
       "      <td>28108298000177</td>\n",
       "      <td>6961</td>\n",
       "      <td>2017-10-12</td>\n",
       "    </tr>\n",
       "    <tr>\n",
       "      <th>1</th>\n",
       "      <td>974 DA LOBO MERCADO EIRELI - ME</td>\n",
       "      <td>28044530000150</td>\n",
       "      <td>7385</td>\n",
       "      <td>2017-12-02</td>\n",
       "    </tr>\n",
       "    <tr>\n",
       "      <th>2</th>\n",
       "      <td>974 DA LOBO MERCADO EIRELI - ME</td>\n",
       "      <td>28044530000150</td>\n",
       "      <td>7386</td>\n",
       "      <td>2017-12-02</td>\n",
       "    </tr>\n",
       "    <tr>\n",
       "      <th>3</th>\n",
       "      <td>A A DE AZEVEDO SILVEIRA COMERCIO VAREJISTA DE ...</td>\n",
       "      <td>28891624000165</td>\n",
       "      <td>7294</td>\n",
       "      <td>2017-11-27</td>\n",
       "    </tr>\n",
       "    <tr>\n",
       "      <th>4</th>\n",
       "      <td>A A DE AZEVEDO SILVEIRA COMERCIO VAREJISTA DE ...</td>\n",
       "      <td>28891624000165</td>\n",
       "      <td>7611</td>\n",
       "      <td>2017-12-17</td>\n",
       "    </tr>\n",
       "  </tbody>\n",
       "</table>\n",
       "</div>"
      ],
      "text/plain": [
       "                                             cliente            CNPJ    NF  \\\n",
       "0   311 HAMILTON IMPORTACAO E EXPORTACAO EIRELI - ME  28108298000177  6961   \n",
       "1                    974 DA LOBO MERCADO EIRELI - ME  28044530000150  7385   \n",
       "2                    974 DA LOBO MERCADO EIRELI - ME  28044530000150  7386   \n",
       "3  A A DE AZEVEDO SILVEIRA COMERCIO VAREJISTA DE ...  28891624000165  7294   \n",
       "4  A A DE AZEVEDO SILVEIRA COMERCIO VAREJISTA DE ...  28891624000165  7611   \n",
       "\n",
       "         data  \n",
       "0  2017-10-12  \n",
       "1  2017-12-02  \n",
       "2  2017-12-02  \n",
       "3  2017-11-27  \n",
       "4  2017-12-17  "
      ]
     },
     "execution_count": 10,
     "metadata": {},
     "output_type": "execute_result"
    }
   ],
   "source": [
    "NFClientes.head()"
   ]
  },
  {
   "cell_type": "markdown",
   "metadata": {},
   "source": [
    "#### Total invoices issued in the period"
   ]
  },
  {
   "cell_type": "code",
   "execution_count": 11,
   "metadata": {},
   "outputs": [],
   "source": [
    "NFe_TotalEmitidas = len(NFClientes)"
   ]
  },
  {
   "cell_type": "code",
   "execution_count": 12,
   "metadata": {},
   "outputs": [
    {
     "data": {
      "text/plain": [
       "6627"
      ]
     },
     "execution_count": 12,
     "metadata": {},
     "output_type": "execute_result"
    }
   ],
   "source": [
    "NFe_TotalEmitidas"
   ]
  },
  {
   "cell_type": "markdown",
   "metadata": {},
   "source": [
    "#### Value of each Invoice"
   ]
  },
  {
   "cell_type": "code",
   "execution_count": 13,
   "metadata": {},
   "outputs": [],
   "source": [
    "ValorNotasFiscais = df.groupby('NF')[\"preco\"].sum().rename(\"Total_NF\").reset_index()"
   ]
  },
  {
   "cell_type": "code",
   "execution_count": 14,
   "metadata": {},
   "outputs": [
    {
     "data": {
      "text/html": [
       "<div>\n",
       "<style scoped>\n",
       "    .dataframe tbody tr th:only-of-type {\n",
       "        vertical-align: middle;\n",
       "    }\n",
       "\n",
       "    .dataframe tbody tr th {\n",
       "        vertical-align: top;\n",
       "    }\n",
       "\n",
       "    .dataframe thead th {\n",
       "        text-align: right;\n",
       "    }\n",
       "</style>\n",
       "<table border=\"1\" class=\"dataframe\">\n",
       "  <thead>\n",
       "    <tr style=\"text-align: right;\">\n",
       "      <th></th>\n",
       "      <th>NF</th>\n",
       "      <th>Total_NF</th>\n",
       "    </tr>\n",
       "  </thead>\n",
       "  <tbody>\n",
       "    <tr>\n",
       "      <th>0</th>\n",
       "      <td>4</td>\n",
       "      <td>2.77</td>\n",
       "    </tr>\n",
       "    <tr>\n",
       "      <th>1</th>\n",
       "      <td>5</td>\n",
       "      <td>1.11</td>\n",
       "    </tr>\n",
       "    <tr>\n",
       "      <th>2</th>\n",
       "      <td>6</td>\n",
       "      <td>15.24</td>\n",
       "    </tr>\n",
       "    <tr>\n",
       "      <th>3</th>\n",
       "      <td>7</td>\n",
       "      <td>1.39</td>\n",
       "    </tr>\n",
       "    <tr>\n",
       "      <th>4</th>\n",
       "      <td>8</td>\n",
       "      <td>1.39</td>\n",
       "    </tr>\n",
       "  </tbody>\n",
       "</table>\n",
       "</div>"
      ],
      "text/plain": [
       "   NF  Total_NF\n",
       "0   4      2.77\n",
       "1   5      1.11\n",
       "2   6     15.24\n",
       "3   7      1.39\n",
       "4   8      1.39"
      ]
     },
     "execution_count": 14,
     "metadata": {},
     "output_type": "execute_result"
    }
   ],
   "source": [
    "ValorNotasFiscais.head()"
   ]
  },
  {
   "cell_type": "markdown",
   "metadata": {},
   "source": [
    "#### Table Merge - Customers and Invoice"
   ]
  },
  {
   "cell_type": "code",
   "execution_count": 15,
   "metadata": {},
   "outputs": [],
   "source": [
    "\n",
    "Valor_NFe = pd.merge(ValorNotasFiscais, NFClientes, how='inner', on=['NF'])"
   ]
  },
  {
   "cell_type": "code",
   "execution_count": 16,
   "metadata": {},
   "outputs": [],
   "source": [
    "Valor_NFe = Valor_NFe.sort_values(by=['cliente','data'],ascending=True, na_position='first').reset_index(drop=True)"
   ]
  },
  {
   "cell_type": "code",
   "execution_count": 17,
   "metadata": {},
   "outputs": [
    {
     "data": {
      "text/html": [
       "<div>\n",
       "<style scoped>\n",
       "    .dataframe tbody tr th:only-of-type {\n",
       "        vertical-align: middle;\n",
       "    }\n",
       "\n",
       "    .dataframe tbody tr th {\n",
       "        vertical-align: top;\n",
       "    }\n",
       "\n",
       "    .dataframe thead th {\n",
       "        text-align: right;\n",
       "    }\n",
       "</style>\n",
       "<table border=\"1\" class=\"dataframe\">\n",
       "  <thead>\n",
       "    <tr style=\"text-align: right;\">\n",
       "      <th></th>\n",
       "      <th>NF</th>\n",
       "      <th>Total_NF</th>\n",
       "      <th>cliente</th>\n",
       "      <th>CNPJ</th>\n",
       "      <th>data</th>\n",
       "    </tr>\n",
       "  </thead>\n",
       "  <tbody>\n",
       "    <tr>\n",
       "      <th>0</th>\n",
       "      <td>6961</td>\n",
       "      <td>788.51</td>\n",
       "      <td>311 HAMILTON IMPORTACAO E EXPORTACAO EIRELI - ME</td>\n",
       "      <td>28108298000177</td>\n",
       "      <td>2017-10-12</td>\n",
       "    </tr>\n",
       "    <tr>\n",
       "      <th>1</th>\n",
       "      <td>7385</td>\n",
       "      <td>3379.11</td>\n",
       "      <td>974 DA LOBO MERCADO EIRELI - ME</td>\n",
       "      <td>28044530000150</td>\n",
       "      <td>2017-12-02</td>\n",
       "    </tr>\n",
       "    <tr>\n",
       "      <th>2</th>\n",
       "      <td>7386</td>\n",
       "      <td>2326.92</td>\n",
       "      <td>974 DA LOBO MERCADO EIRELI - ME</td>\n",
       "      <td>28044530000150</td>\n",
       "      <td>2017-12-02</td>\n",
       "    </tr>\n",
       "    <tr>\n",
       "      <th>3</th>\n",
       "      <td>7294</td>\n",
       "      <td>817.58</td>\n",
       "      <td>A A DE AZEVEDO SILVEIRA COMERCIO VAREJISTA DE ...</td>\n",
       "      <td>28891624000165</td>\n",
       "      <td>2017-11-27</td>\n",
       "    </tr>\n",
       "    <tr>\n",
       "      <th>4</th>\n",
       "      <td>7611</td>\n",
       "      <td>325.16</td>\n",
       "      <td>A A DE AZEVEDO SILVEIRA COMERCIO VAREJISTA DE ...</td>\n",
       "      <td>28891624000165</td>\n",
       "      <td>2017-12-17</td>\n",
       "    </tr>\n",
       "  </tbody>\n",
       "</table>\n",
       "</div>"
      ],
      "text/plain": [
       "     NF  Total_NF                                            cliente  \\\n",
       "0  6961    788.51   311 HAMILTON IMPORTACAO E EXPORTACAO EIRELI - ME   \n",
       "1  7385   3379.11                    974 DA LOBO MERCADO EIRELI - ME   \n",
       "2  7386   2326.92                    974 DA LOBO MERCADO EIRELI - ME   \n",
       "3  7294    817.58  A A DE AZEVEDO SILVEIRA COMERCIO VAREJISTA DE ...   \n",
       "4  7611    325.16  A A DE AZEVEDO SILVEIRA COMERCIO VAREJISTA DE ...   \n",
       "\n",
       "             CNPJ        data  \n",
       "0  28108298000177  2017-10-12  \n",
       "1  28044530000150  2017-12-02  \n",
       "2  28044530000150  2017-12-02  \n",
       "3  28891624000165  2017-11-27  \n",
       "4  28891624000165  2017-12-17  "
      ]
     },
     "execution_count": 17,
     "metadata": {},
     "output_type": "execute_result"
    }
   ],
   "source": [
    "Valor_NFe.head()"
   ]
  },
  {
   "cell_type": "markdown",
   "metadata": {},
   "source": [
    "#### Create a file grouped by Customers and Invoice"
   ]
  },
  {
   "cell_type": "code",
   "execution_count": 18,
   "metadata": {},
   "outputs": [],
   "source": [
    "Valor_NFe.to_csv('C:/Mettricx/Projetos/SupraAlimentos/PowerBI/NFe_Emitidas.csv',encoding='utf-8', index=False)"
   ]
  },
  {
   "cell_type": "markdown",
   "metadata": {},
   "source": [
    "#### How often a customer did a purchase (frequency) or Number of invoices issued to that customer"
   ]
  },
  {
   "cell_type": "code",
   "execution_count": 22,
   "metadata": {},
   "outputs": [],
   "source": [
    "qtyDeCompras =  Valor_NFe[['NF']].groupby([Valor_NFe['CNPJ']]).size().rename(\"QtyCompras\").reset_index()"
   ]
  },
  {
   "cell_type": "code",
   "execution_count": 23,
   "metadata": {},
   "outputs": [],
   "source": [
    "qtyDeCompras = qtyDeCompras.sort_values(by=['QtyCompras'],ascending=False, na_position='first').reset_index(drop=True)\n"
   ]
  },
  {
   "cell_type": "code",
   "execution_count": 24,
   "metadata": {},
   "outputs": [
    {
     "data": {
      "text/html": [
       "<div>\n",
       "<style scoped>\n",
       "    .dataframe tbody tr th:only-of-type {\n",
       "        vertical-align: middle;\n",
       "    }\n",
       "\n",
       "    .dataframe tbody tr th {\n",
       "        vertical-align: top;\n",
       "    }\n",
       "\n",
       "    .dataframe thead th {\n",
       "        text-align: right;\n",
       "    }\n",
       "</style>\n",
       "<table border=\"1\" class=\"dataframe\">\n",
       "  <thead>\n",
       "    <tr style=\"text-align: right;\">\n",
       "      <th></th>\n",
       "      <th>CNPJ</th>\n",
       "      <th>QtyCompras</th>\n",
       "    </tr>\n",
       "  </thead>\n",
       "  <tbody>\n",
       "    <tr>\n",
       "      <th>0</th>\n",
       "      <td>17339293000139</td>\n",
       "      <td>142</td>\n",
       "    </tr>\n",
       "    <tr>\n",
       "      <th>1</th>\n",
       "      <td>12434859000198</td>\n",
       "      <td>136</td>\n",
       "    </tr>\n",
       "    <tr>\n",
       "      <th>2</th>\n",
       "      <td>22536813000133</td>\n",
       "      <td>115</td>\n",
       "    </tr>\n",
       "    <tr>\n",
       "      <th>3</th>\n",
       "      <td>29840154000173</td>\n",
       "      <td>72</td>\n",
       "    </tr>\n",
       "    <tr>\n",
       "      <th>4</th>\n",
       "      <td>19068286000175</td>\n",
       "      <td>69</td>\n",
       "    </tr>\n",
       "  </tbody>\n",
       "</table>\n",
       "</div>"
      ],
      "text/plain": [
       "             CNPJ  QtyCompras\n",
       "0  17339293000139         142\n",
       "1  12434859000198         136\n",
       "2  22536813000133         115\n",
       "3  29840154000173          72\n",
       "4  19068286000175          69"
      ]
     },
     "execution_count": 24,
     "metadata": {},
     "output_type": "execute_result"
    }
   ],
   "source": [
    "qtyDeCompras.head()"
   ]
  },
  {
   "cell_type": "code",
   "execution_count": 25,
   "metadata": {},
   "outputs": [],
   "source": [
    "qtyDeCompras['frequencia']=(qtyDeCompras['QtyCompras']/NFe_TotalEmitidas)*100"
   ]
  },
  {
   "cell_type": "code",
   "execution_count": 26,
   "metadata": {},
   "outputs": [],
   "source": [
    "qtyDeCompras = qtyDeCompras.sort_values(by=['frequencia'],ascending=False, na_position='first').reset_index(drop=True)"
   ]
  },
  {
   "cell_type": "code",
   "execution_count": 27,
   "metadata": {},
   "outputs": [
    {
     "data": {
      "text/html": [
       "<div>\n",
       "<style scoped>\n",
       "    .dataframe tbody tr th:only-of-type {\n",
       "        vertical-align: middle;\n",
       "    }\n",
       "\n",
       "    .dataframe tbody tr th {\n",
       "        vertical-align: top;\n",
       "    }\n",
       "\n",
       "    .dataframe thead th {\n",
       "        text-align: right;\n",
       "    }\n",
       "</style>\n",
       "<table border=\"1\" class=\"dataframe\">\n",
       "  <thead>\n",
       "    <tr style=\"text-align: right;\">\n",
       "      <th></th>\n",
       "      <th>CNPJ</th>\n",
       "      <th>QtyCompras</th>\n",
       "      <th>frequencia</th>\n",
       "    </tr>\n",
       "  </thead>\n",
       "  <tbody>\n",
       "    <tr>\n",
       "      <th>0</th>\n",
       "      <td>17339293000139</td>\n",
       "      <td>142</td>\n",
       "      <td>2.142749</td>\n",
       "    </tr>\n",
       "    <tr>\n",
       "      <th>1</th>\n",
       "      <td>12434859000198</td>\n",
       "      <td>136</td>\n",
       "      <td>2.052211</td>\n",
       "    </tr>\n",
       "    <tr>\n",
       "      <th>2</th>\n",
       "      <td>22536813000133</td>\n",
       "      <td>115</td>\n",
       "      <td>1.735325</td>\n",
       "    </tr>\n",
       "    <tr>\n",
       "      <th>3</th>\n",
       "      <td>29840154000173</td>\n",
       "      <td>72</td>\n",
       "      <td>1.086464</td>\n",
       "    </tr>\n",
       "    <tr>\n",
       "      <th>4</th>\n",
       "      <td>19068286000175</td>\n",
       "      <td>69</td>\n",
       "      <td>1.041195</td>\n",
       "    </tr>\n",
       "  </tbody>\n",
       "</table>\n",
       "</div>"
      ],
      "text/plain": [
       "             CNPJ  QtyCompras  frequencia\n",
       "0  17339293000139         142    2.142749\n",
       "1  12434859000198         136    2.052211\n",
       "2  22536813000133         115    1.735325\n",
       "3  29840154000173          72    1.086464\n",
       "4  19068286000175          69    1.041195"
      ]
     },
     "execution_count": 27,
     "metadata": {},
     "output_type": "execute_result"
    }
   ],
   "source": [
    "qtyDeCompras.head()"
   ]
  },
  {
   "cell_type": "markdown",
   "metadata": {},
   "source": [
    "#### Customer Purchase Volume  "
   ]
  },
  {
   "cell_type": "code",
   "execution_count": 28,
   "metadata": {},
   "outputs": [
    {
     "data": {
      "text/html": [
       "<div>\n",
       "<style scoped>\n",
       "    .dataframe tbody tr th:only-of-type {\n",
       "        vertical-align: middle;\n",
       "    }\n",
       "\n",
       "    .dataframe tbody tr th {\n",
       "        vertical-align: top;\n",
       "    }\n",
       "\n",
       "    .dataframe thead th {\n",
       "        text-align: right;\n",
       "    }\n",
       "</style>\n",
       "<table border=\"1\" class=\"dataframe\">\n",
       "  <thead>\n",
       "    <tr style=\"text-align: right;\">\n",
       "      <th></th>\n",
       "      <th>CNPJ</th>\n",
       "      <th>preco</th>\n",
       "    </tr>\n",
       "  </thead>\n",
       "  <tbody>\n",
       "    <tr>\n",
       "      <th>0</th>\n",
       "      <td>175479000105</td>\n",
       "      <td>14429.17</td>\n",
       "    </tr>\n",
       "    <tr>\n",
       "      <th>1</th>\n",
       "      <td>334392000206</td>\n",
       "      <td>1511.64</td>\n",
       "    </tr>\n",
       "    <tr>\n",
       "      <th>2</th>\n",
       "      <td>381613000116</td>\n",
       "      <td>6249.46</td>\n",
       "    </tr>\n",
       "    <tr>\n",
       "      <th>3</th>\n",
       "      <td>803210000118</td>\n",
       "      <td>11911.61</td>\n",
       "    </tr>\n",
       "    <tr>\n",
       "      <th>4</th>\n",
       "      <td>814123000166</td>\n",
       "      <td>9583.20</td>\n",
       "    </tr>\n",
       "  </tbody>\n",
       "</table>\n",
       "</div>"
      ],
      "text/plain": [
       "           CNPJ     preco\n",
       "0  175479000105  14429.17\n",
       "1  334392000206   1511.64\n",
       "2  381613000116   6249.46\n",
       "3  803210000118  11911.61\n",
       "4  814123000166   9583.20"
      ]
     },
     "execution_count": 28,
     "metadata": {},
     "output_type": "execute_result"
    }
   ],
   "source": [
    "#compraDeClientes = df[['CNPJ','preco']].groupby([df['CNPJ']]).sum().reset_index()\n",
    "compraDeClientes = df[['preco']].groupby([df['CNPJ']]).sum().reset_index()\n",
    "compraDeClientes.head()"
   ]
  },
  {
   "cell_type": "code",
   "execution_count": 29,
   "metadata": {},
   "outputs": [],
   "source": [
    "compraDeClientes = compraDeClientes.rename(index=str, columns={\"CNPJ\": \"CNPJ\", \"preco\": \"Compras\"})"
   ]
  },
  {
   "cell_type": "code",
   "execution_count": 33,
   "metadata": {},
   "outputs": [],
   "source": [
    "compraDeClientes = compraDeClientes.sort_values(by=['Compras'],ascending=False, na_position='first').reset_index(drop=True)"
   ]
  },
  {
   "cell_type": "code",
   "execution_count": 34,
   "metadata": {},
   "outputs": [
    {
     "data": {
      "text/html": [
       "<div>\n",
       "<style scoped>\n",
       "    .dataframe tbody tr th:only-of-type {\n",
       "        vertical-align: middle;\n",
       "    }\n",
       "\n",
       "    .dataframe tbody tr th {\n",
       "        vertical-align: top;\n",
       "    }\n",
       "\n",
       "    .dataframe thead th {\n",
       "        text-align: right;\n",
       "    }\n",
       "</style>\n",
       "<table border=\"1\" class=\"dataframe\">\n",
       "  <thead>\n",
       "    <tr style=\"text-align: right;\">\n",
       "      <th></th>\n",
       "      <th>CNPJ</th>\n",
       "      <th>Compras</th>\n",
       "    </tr>\n",
       "  </thead>\n",
       "  <tbody>\n",
       "    <tr>\n",
       "      <th>0</th>\n",
       "      <td>12360891000176</td>\n",
       "      <td>474946.97</td>\n",
       "    </tr>\n",
       "    <tr>\n",
       "      <th>1</th>\n",
       "      <td>15116388000168</td>\n",
       "      <td>367559.08</td>\n",
       "    </tr>\n",
       "    <tr>\n",
       "      <th>2</th>\n",
       "      <td>12434859000198</td>\n",
       "      <td>362693.84</td>\n",
       "    </tr>\n",
       "    <tr>\n",
       "      <th>3</th>\n",
       "      <td>29840154000173</td>\n",
       "      <td>300708.01</td>\n",
       "    </tr>\n",
       "    <tr>\n",
       "      <th>4</th>\n",
       "      <td>19068286000175</td>\n",
       "      <td>287622.97</td>\n",
       "    </tr>\n",
       "  </tbody>\n",
       "</table>\n",
       "</div>"
      ],
      "text/plain": [
       "             CNPJ    Compras\n",
       "0  12360891000176  474946.97\n",
       "1  15116388000168  367559.08\n",
       "2  12434859000198  362693.84\n",
       "3  29840154000173  300708.01\n",
       "4  19068286000175  287622.97"
      ]
     },
     "execution_count": 34,
     "metadata": {},
     "output_type": "execute_result"
    }
   ],
   "source": [
    "compraDeClientes.head()"
   ]
  },
  {
   "cell_type": "code",
   "execution_count": 35,
   "metadata": {},
   "outputs": [],
   "source": [
    "compraDeClientes['P%_Compras']=(compraDeClientes['Compras']/FaturamentoTotal)*100"
   ]
  },
  {
   "cell_type": "markdown",
   "metadata": {},
   "source": [
    "#### Customers, purchases, %Total"
   ]
  },
  {
   "cell_type": "code",
   "execution_count": 36,
   "metadata": {},
   "outputs": [
    {
     "data": {
      "text/html": [
       "<div>\n",
       "<style scoped>\n",
       "    .dataframe tbody tr th:only-of-type {\n",
       "        vertical-align: middle;\n",
       "    }\n",
       "\n",
       "    .dataframe tbody tr th {\n",
       "        vertical-align: top;\n",
       "    }\n",
       "\n",
       "    .dataframe thead th {\n",
       "        text-align: right;\n",
       "    }\n",
       "</style>\n",
       "<table border=\"1\" class=\"dataframe\">\n",
       "  <thead>\n",
       "    <tr style=\"text-align: right;\">\n",
       "      <th></th>\n",
       "      <th>CNPJ</th>\n",
       "      <th>Compras</th>\n",
       "      <th>P%_Compras</th>\n",
       "    </tr>\n",
       "  </thead>\n",
       "  <tbody>\n",
       "    <tr>\n",
       "      <th>0</th>\n",
       "      <td>12360891000176</td>\n",
       "      <td>474946.97</td>\n",
       "      <td>4.067116</td>\n",
       "    </tr>\n",
       "    <tr>\n",
       "      <th>1</th>\n",
       "      <td>15116388000168</td>\n",
       "      <td>367559.08</td>\n",
       "      <td>3.147520</td>\n",
       "    </tr>\n",
       "    <tr>\n",
       "      <th>2</th>\n",
       "      <td>12434859000198</td>\n",
       "      <td>362693.84</td>\n",
       "      <td>3.105858</td>\n",
       "    </tr>\n",
       "    <tr>\n",
       "      <th>3</th>\n",
       "      <td>29840154000173</td>\n",
       "      <td>300708.01</td>\n",
       "      <td>2.575054</td>\n",
       "    </tr>\n",
       "    <tr>\n",
       "      <th>4</th>\n",
       "      <td>19068286000175</td>\n",
       "      <td>287622.97</td>\n",
       "      <td>2.463003</td>\n",
       "    </tr>\n",
       "    <tr>\n",
       "      <th>5</th>\n",
       "      <td>17339293000139</td>\n",
       "      <td>216302.26</td>\n",
       "      <td>1.852262</td>\n",
       "    </tr>\n",
       "    <tr>\n",
       "      <th>6</th>\n",
       "      <td>39508023000228</td>\n",
       "      <td>179723.79</td>\n",
       "      <td>1.539030</td>\n",
       "    </tr>\n",
       "    <tr>\n",
       "      <th>7</th>\n",
       "      <td>27833615001984</td>\n",
       "      <td>160547.14</td>\n",
       "      <td>1.374814</td>\n",
       "    </tr>\n",
       "    <tr>\n",
       "      <th>8</th>\n",
       "      <td>5565335000170</td>\n",
       "      <td>153918.48</td>\n",
       "      <td>1.318051</td>\n",
       "    </tr>\n",
       "    <tr>\n",
       "      <th>9</th>\n",
       "      <td>9653290000147</td>\n",
       "      <td>153882.33</td>\n",
       "      <td>1.317741</td>\n",
       "    </tr>\n",
       "  </tbody>\n",
       "</table>\n",
       "</div>"
      ],
      "text/plain": [
       "             CNPJ    Compras  P%_Compras\n",
       "0  12360891000176  474946.97    4.067116\n",
       "1  15116388000168  367559.08    3.147520\n",
       "2  12434859000198  362693.84    3.105858\n",
       "3  29840154000173  300708.01    2.575054\n",
       "4  19068286000175  287622.97    2.463003\n",
       "5  17339293000139  216302.26    1.852262\n",
       "6  39508023000228  179723.79    1.539030\n",
       "7  27833615001984  160547.14    1.374814\n",
       "8   5565335000170  153918.48    1.318051\n",
       "9   9653290000147  153882.33    1.317741"
      ]
     },
     "execution_count": 36,
     "metadata": {},
     "output_type": "execute_result"
    }
   ],
   "source": [
    "compraDeClientes.head(10)"
   ]
  },
  {
   "cell_type": "code",
   "execution_count": 37,
   "metadata": {},
   "outputs": [],
   "source": [
    "# Faz o MERGE dos dois Datasets\n",
    "clientes_Classificacao = pd.merge(compraDeClientes, qtyDeCompras, how='inner', on=['CNPJ'])"
   ]
  },
  {
   "cell_type": "code",
   "execution_count": 38,
   "metadata": {},
   "outputs": [
    {
     "data": {
      "text/html": [
       "<div>\n",
       "<style scoped>\n",
       "    .dataframe tbody tr th:only-of-type {\n",
       "        vertical-align: middle;\n",
       "    }\n",
       "\n",
       "    .dataframe tbody tr th {\n",
       "        vertical-align: top;\n",
       "    }\n",
       "\n",
       "    .dataframe thead th {\n",
       "        text-align: right;\n",
       "    }\n",
       "</style>\n",
       "<table border=\"1\" class=\"dataframe\">\n",
       "  <thead>\n",
       "    <tr style=\"text-align: right;\">\n",
       "      <th></th>\n",
       "      <th>CNPJ</th>\n",
       "      <th>Compras</th>\n",
       "      <th>P%_Compras</th>\n",
       "      <th>QtyCompras</th>\n",
       "      <th>frequencia</th>\n",
       "    </tr>\n",
       "  </thead>\n",
       "  <tbody>\n",
       "    <tr>\n",
       "      <th>0</th>\n",
       "      <td>12360891000176</td>\n",
       "      <td>474946.97</td>\n",
       "      <td>4.067116</td>\n",
       "      <td>26</td>\n",
       "      <td>0.392334</td>\n",
       "    </tr>\n",
       "    <tr>\n",
       "      <th>1</th>\n",
       "      <td>15116388000168</td>\n",
       "      <td>367559.08</td>\n",
       "      <td>3.147520</td>\n",
       "      <td>23</td>\n",
       "      <td>0.347065</td>\n",
       "    </tr>\n",
       "    <tr>\n",
       "      <th>2</th>\n",
       "      <td>12434859000198</td>\n",
       "      <td>362693.84</td>\n",
       "      <td>3.105858</td>\n",
       "      <td>136</td>\n",
       "      <td>2.052211</td>\n",
       "    </tr>\n",
       "    <tr>\n",
       "      <th>3</th>\n",
       "      <td>29840154000173</td>\n",
       "      <td>300708.01</td>\n",
       "      <td>2.575054</td>\n",
       "      <td>72</td>\n",
       "      <td>1.086464</td>\n",
       "    </tr>\n",
       "    <tr>\n",
       "      <th>4</th>\n",
       "      <td>19068286000175</td>\n",
       "      <td>287622.97</td>\n",
       "      <td>2.463003</td>\n",
       "      <td>69</td>\n",
       "      <td>1.041195</td>\n",
       "    </tr>\n",
       "  </tbody>\n",
       "</table>\n",
       "</div>"
      ],
      "text/plain": [
       "             CNPJ    Compras  P%_Compras  QtyCompras  frequencia\n",
       "0  12360891000176  474946.97    4.067116          26    0.392334\n",
       "1  15116388000168  367559.08    3.147520          23    0.347065\n",
       "2  12434859000198  362693.84    3.105858         136    2.052211\n",
       "3  29840154000173  300708.01    2.575054          72    1.086464\n",
       "4  19068286000175  287622.97    2.463003          69    1.041195"
      ]
     },
     "execution_count": 38,
     "metadata": {},
     "output_type": "execute_result"
    }
   ],
   "source": [
    "clientes_Classificacao.head()"
   ]
  },
  {
   "cell_type": "code",
   "execution_count": null,
   "metadata": {},
   "outputs": [],
   "source": [
    "clientes_Classificacao.head(10)\n"
   ]
  },
  {
   "cell_type": "markdown",
   "metadata": {},
   "source": [
    "#### Geographical coordinates of Brazilian cities"
   ]
  },
  {
   "cell_type": "code",
   "execution_count": 39,
   "metadata": {},
   "outputs": [],
   "source": [
    "cidades = pd.read_csv('C:/Mettricx/Projetos/SupraAlimentos/DataSet/MunicipiosBrasil.csv', names=['id','latitude','longitude','cidade','UF','Valor'],encoding = 'utf8')\n"
   ]
  },
  {
   "cell_type": "code",
   "execution_count": 40,
   "metadata": {},
   "outputs": [
    {
     "name": "stdout",
     "output_type": "stream",
     "text": [
      "<class 'pandas.core.frame.DataFrame'>\n",
      "RangeIndex: 5509 entries, 0 to 5508\n",
      "Data columns (total 6 columns):\n",
      "id           5509 non-null int64\n",
      "latitude     5509 non-null float64\n",
      "longitude    5509 non-null float64\n",
      "cidade       5509 non-null object\n",
      "UF           5509 non-null object\n",
      "Valor        5509 non-null float64\n",
      "dtypes: float64(3), int64(1), object(2)\n",
      "memory usage: 258.3+ KB\n"
     ]
    }
   ],
   "source": [
    "cidades.info()"
   ]
  },
  {
   "cell_type": "code",
   "execution_count": 41,
   "metadata": {},
   "outputs": [],
   "source": [
    "cidades.drop(['id'],axis = 1, inplace = True)"
   ]
  },
  {
   "cell_type": "code",
   "execution_count": 42,
   "metadata": {},
   "outputs": [
    {
     "data": {
      "text/html": [
       "<div>\n",
       "<style scoped>\n",
       "    .dataframe tbody tr th:only-of-type {\n",
       "        vertical-align: middle;\n",
       "    }\n",
       "\n",
       "    .dataframe tbody tr th {\n",
       "        vertical-align: top;\n",
       "    }\n",
       "\n",
       "    .dataframe thead th {\n",
       "        text-align: right;\n",
       "    }\n",
       "</style>\n",
       "<table border=\"1\" class=\"dataframe\">\n",
       "  <thead>\n",
       "    <tr style=\"text-align: right;\">\n",
       "      <th></th>\n",
       "      <th>latitude</th>\n",
       "      <th>longitude</th>\n",
       "      <th>cidade</th>\n",
       "      <th>UF</th>\n",
       "      <th>Valor</th>\n",
       "    </tr>\n",
       "  </thead>\n",
       "  <tbody>\n",
       "    <tr>\n",
       "      <th>0</th>\n",
       "      <td>-9.82</td>\n",
       "      <td>-66.88</td>\n",
       "      <td>ACRELANDIA</td>\n",
       "      <td>AC</td>\n",
       "      <td>39560.03891</td>\n",
       "    </tr>\n",
       "    <tr>\n",
       "      <th>1</th>\n",
       "      <td>-10.94</td>\n",
       "      <td>-69.56</td>\n",
       "      <td>ASSIS BRASIL</td>\n",
       "      <td>AC</td>\n",
       "      <td>17842.15099</td>\n",
       "    </tr>\n",
       "    <tr>\n",
       "      <th>2</th>\n",
       "      <td>-11.01</td>\n",
       "      <td>-68.74</td>\n",
       "      <td>BRASILEIA</td>\n",
       "      <td>AC</td>\n",
       "      <td>93373.39431</td>\n",
       "    </tr>\n",
       "    <tr>\n",
       "      <th>3</th>\n",
       "      <td>-9.83</td>\n",
       "      <td>-67.95</td>\n",
       "      <td>BUJARI</td>\n",
       "      <td>AC</td>\n",
       "      <td>28516.56749</td>\n",
       "    </tr>\n",
       "    <tr>\n",
       "      <th>4</th>\n",
       "      <td>-10.57</td>\n",
       "      <td>-67.67</td>\n",
       "      <td>CAPIXABA</td>\n",
       "      <td>AC</td>\n",
       "      <td>18886.45514</td>\n",
       "    </tr>\n",
       "  </tbody>\n",
       "</table>\n",
       "</div>"
      ],
      "text/plain": [
       "   latitude  longitude        cidade  UF        Valor\n",
       "0     -9.82     -66.88    ACRELANDIA  AC  39560.03891\n",
       "1    -10.94     -69.56  ASSIS BRASIL  AC  17842.15099\n",
       "2    -11.01     -68.74     BRASILEIA  AC  93373.39431\n",
       "3     -9.83     -67.95        BUJARI  AC  28516.56749\n",
       "4    -10.57     -67.67      CAPIXABA  AC  18886.45514"
      ]
     },
     "execution_count": 42,
     "metadata": {},
     "output_type": "execute_result"
    }
   ],
   "source": [
    "cidades.head()"
   ]
  },
  {
   "cell_type": "markdown",
   "metadata": {},
   "source": [
    "#### Customer File"
   ]
  },
  {
   "cell_type": "code",
   "execution_count": 43,
   "metadata": {},
   "outputs": [],
   "source": [
    "clientes = pd.read_csv('C:/Mettricx/Projetos/SupraAlimentos/PowerBI/Supra_Clientes.csv')"
   ]
  },
  {
   "cell_type": "code",
   "execution_count": 44,
   "metadata": {},
   "outputs": [
    {
     "data": {
      "text/html": [
       "<div>\n",
       "<style scoped>\n",
       "    .dataframe tbody tr th:only-of-type {\n",
       "        vertical-align: middle;\n",
       "    }\n",
       "\n",
       "    .dataframe tbody tr th {\n",
       "        vertical-align: top;\n",
       "    }\n",
       "\n",
       "    .dataframe thead th {\n",
       "        text-align: right;\n",
       "    }\n",
       "</style>\n",
       "<table border=\"1\" class=\"dataframe\">\n",
       "  <thead>\n",
       "    <tr style=\"text-align: right;\">\n",
       "      <th></th>\n",
       "      <th>CNPJ</th>\n",
       "      <th>cliente</th>\n",
       "      <th>UF</th>\n",
       "      <th>cidade</th>\n",
       "      <th>bairro</th>\n",
       "    </tr>\n",
       "  </thead>\n",
       "  <tbody>\n",
       "    <tr>\n",
       "      <th>0</th>\n",
       "      <td>7394215000183</td>\n",
       "      <td>GILVERLAN BARBOSA SOUTO EPP</td>\n",
       "      <td>BA</td>\n",
       "      <td>NOVA VICOSA</td>\n",
       "      <td>VICOSA</td>\n",
       "    </tr>\n",
       "    <tr>\n",
       "      <th>1</th>\n",
       "      <td>23673682000107</td>\n",
       "      <td>ALINE FAVERO DO NASCIMENTO</td>\n",
       "      <td>BA</td>\n",
       "      <td>PRADO</td>\n",
       "      <td>SAO BRAS</td>\n",
       "    </tr>\n",
       "    <tr>\n",
       "      <th>2</th>\n",
       "      <td>9190998000109</td>\n",
       "      <td>SUPERMERCADO PAGANINI LTDA</td>\n",
       "      <td>ES</td>\n",
       "      <td>ANCHIETA</td>\n",
       "      <td>OLIVEIRA</td>\n",
       "    </tr>\n",
       "    <tr>\n",
       "      <th>3</th>\n",
       "      <td>35994433000275</td>\n",
       "      <td>MERCADO HORTICAXIXE LTDA EPP</td>\n",
       "      <td>ES</td>\n",
       "      <td>ARACRUZ</td>\n",
       "      <td>BARRA DO RIACHO</td>\n",
       "    </tr>\n",
       "    <tr>\n",
       "      <th>4</th>\n",
       "      <td>8357136000165</td>\n",
       "      <td>SUPERMERCADO VALLIN LTDA</td>\n",
       "      <td>ES</td>\n",
       "      <td>ARACRUZ</td>\n",
       "      <td>BARRA DO SAHY</td>\n",
       "    </tr>\n",
       "  </tbody>\n",
       "</table>\n",
       "</div>"
      ],
      "text/plain": [
       "             CNPJ                       cliente  UF       cidade  \\\n",
       "0   7394215000183   GILVERLAN BARBOSA SOUTO EPP  BA  NOVA VICOSA   \n",
       "1  23673682000107    ALINE FAVERO DO NASCIMENTO  BA        PRADO   \n",
       "2   9190998000109    SUPERMERCADO PAGANINI LTDA  ES     ANCHIETA   \n",
       "3  35994433000275  MERCADO HORTICAXIXE LTDA EPP  ES      ARACRUZ   \n",
       "4   8357136000165      SUPERMERCADO VALLIN LTDA  ES      ARACRUZ   \n",
       "\n",
       "            bairro  \n",
       "0           VICOSA  \n",
       "1         SAO BRAS  \n",
       "2         OLIVEIRA  \n",
       "3  BARRA DO RIACHO  \n",
       "4    BARRA DO SAHY  "
      ]
     },
     "execution_count": 44,
     "metadata": {},
     "output_type": "execute_result"
    }
   ],
   "source": [
    "clientes.head()"
   ]
  },
  {
   "cell_type": "markdown",
   "metadata": {},
   "source": [
    "#### Merge to define the Customer's Geographical location"
   ]
  },
  {
   "cell_type": "code",
   "execution_count": 48,
   "metadata": {},
   "outputs": [],
   "source": [
    "s1 = pd.merge(clientes,cidades , on=['cidade','UF'])"
   ]
  },
  {
   "cell_type": "code",
   "execution_count": 49,
   "metadata": {},
   "outputs": [],
   "source": [
    "s1 = s1.sort_values(by=['UF','cidade','cliente'],ascending=True, na_position='first').reset_index(drop=True)"
   ]
  },
  {
   "cell_type": "code",
   "execution_count": 50,
   "metadata": {},
   "outputs": [
    {
     "data": {
      "text/html": [
       "<div>\n",
       "<style scoped>\n",
       "    .dataframe tbody tr th:only-of-type {\n",
       "        vertical-align: middle;\n",
       "    }\n",
       "\n",
       "    .dataframe tbody tr th {\n",
       "        vertical-align: top;\n",
       "    }\n",
       "\n",
       "    .dataframe thead th {\n",
       "        text-align: right;\n",
       "    }\n",
       "</style>\n",
       "<table border=\"1\" class=\"dataframe\">\n",
       "  <thead>\n",
       "    <tr style=\"text-align: right;\">\n",
       "      <th></th>\n",
       "      <th>CNPJ</th>\n",
       "      <th>cliente</th>\n",
       "      <th>UF</th>\n",
       "      <th>cidade</th>\n",
       "      <th>bairro</th>\n",
       "      <th>latitude</th>\n",
       "      <th>longitude</th>\n",
       "      <th>Valor</th>\n",
       "    </tr>\n",
       "  </thead>\n",
       "  <tbody>\n",
       "    <tr>\n",
       "      <th>0</th>\n",
       "      <td>7394215000183</td>\n",
       "      <td>GILVERLAN BARBOSA SOUTO EPP</td>\n",
       "      <td>BA</td>\n",
       "      <td>NOVA VICOSA</td>\n",
       "      <td>VICOSA</td>\n",
       "      <td>-17.89</td>\n",
       "      <td>-39.37</td>\n",
       "      <td>184301.3617</td>\n",
       "    </tr>\n",
       "    <tr>\n",
       "      <th>1</th>\n",
       "      <td>23673682000107</td>\n",
       "      <td>ALINE FAVERO DO NASCIMENTO</td>\n",
       "      <td>BA</td>\n",
       "      <td>PRADO</td>\n",
       "      <td>SAO BRAS</td>\n",
       "      <td>-17.34</td>\n",
       "      <td>-39.22</td>\n",
       "      <td>157085.2382</td>\n",
       "    </tr>\n",
       "    <tr>\n",
       "      <th>2</th>\n",
       "      <td>9190998000109</td>\n",
       "      <td>SUPERMERCADO PAGANINI LTDA</td>\n",
       "      <td>ES</td>\n",
       "      <td>ANCHIETA</td>\n",
       "      <td>OLIVEIRA</td>\n",
       "      <td>-20.79</td>\n",
       "      <td>-40.65</td>\n",
       "      <td>111105.3093</td>\n",
       "    </tr>\n",
       "    <tr>\n",
       "      <th>3</th>\n",
       "      <td>31759699000444</td>\n",
       "      <td>COMERCIAL DEVENS LTDA</td>\n",
       "      <td>ES</td>\n",
       "      <td>ARACRUZ</td>\n",
       "      <td>COQUEIRAL</td>\n",
       "      <td>-19.82</td>\n",
       "      <td>-40.27</td>\n",
       "      <td>392874.5203</td>\n",
       "    </tr>\n",
       "    <tr>\n",
       "      <th>4</th>\n",
       "      <td>31759699000363</td>\n",
       "      <td>COMERCIAL DEVENS LTDA.</td>\n",
       "      <td>ES</td>\n",
       "      <td>ARACRUZ</td>\n",
       "      <td>CENTRO</td>\n",
       "      <td>-19.82</td>\n",
       "      <td>-40.27</td>\n",
       "      <td>392874.5203</td>\n",
       "    </tr>\n",
       "  </tbody>\n",
       "</table>\n",
       "</div>"
      ],
      "text/plain": [
       "             CNPJ                      cliente  UF       cidade     bairro  \\\n",
       "0   7394215000183  GILVERLAN BARBOSA SOUTO EPP  BA  NOVA VICOSA     VICOSA   \n",
       "1  23673682000107   ALINE FAVERO DO NASCIMENTO  BA        PRADO   SAO BRAS   \n",
       "2   9190998000109   SUPERMERCADO PAGANINI LTDA  ES     ANCHIETA   OLIVEIRA   \n",
       "3  31759699000444        COMERCIAL DEVENS LTDA  ES      ARACRUZ  COQUEIRAL   \n",
       "4  31759699000363       COMERCIAL DEVENS LTDA.  ES      ARACRUZ     CENTRO   \n",
       "\n",
       "   latitude  longitude        Valor  \n",
       "0    -17.89     -39.37  184301.3617  \n",
       "1    -17.34     -39.22  157085.2382  \n",
       "2    -20.79     -40.65  111105.3093  \n",
       "3    -19.82     -40.27  392874.5203  \n",
       "4    -19.82     -40.27  392874.5203  "
      ]
     },
     "execution_count": 50,
     "metadata": {},
     "output_type": "execute_result"
    }
   ],
   "source": [
    "s1.head()"
   ]
  },
  {
   "cell_type": "code",
   "execution_count": 51,
   "metadata": {},
   "outputs": [],
   "source": [
    "Supra_Cli = pd.merge(s1,clientes_Classificacao , on=['CNPJ'])"
   ]
  },
  {
   "cell_type": "code",
   "execution_count": 52,
   "metadata": {},
   "outputs": [
    {
     "data": {
      "text/html": [
       "<div>\n",
       "<style scoped>\n",
       "    .dataframe tbody tr th:only-of-type {\n",
       "        vertical-align: middle;\n",
       "    }\n",
       "\n",
       "    .dataframe tbody tr th {\n",
       "        vertical-align: top;\n",
       "    }\n",
       "\n",
       "    .dataframe thead th {\n",
       "        text-align: right;\n",
       "    }\n",
       "</style>\n",
       "<table border=\"1\" class=\"dataframe\">\n",
       "  <thead>\n",
       "    <tr style=\"text-align: right;\">\n",
       "      <th></th>\n",
       "      <th>CNPJ</th>\n",
       "      <th>cliente</th>\n",
       "      <th>UF</th>\n",
       "      <th>cidade</th>\n",
       "      <th>bairro</th>\n",
       "      <th>latitude</th>\n",
       "      <th>longitude</th>\n",
       "      <th>Valor</th>\n",
       "      <th>Compras</th>\n",
       "      <th>P%_Compras</th>\n",
       "      <th>QtyCompras</th>\n",
       "      <th>frequencia</th>\n",
       "    </tr>\n",
       "  </thead>\n",
       "  <tbody>\n",
       "    <tr>\n",
       "      <th>0</th>\n",
       "      <td>7394215000183</td>\n",
       "      <td>GILVERLAN BARBOSA SOUTO EPP</td>\n",
       "      <td>BA</td>\n",
       "      <td>NOVA VICOSA</td>\n",
       "      <td>VICOSA</td>\n",
       "      <td>-17.89</td>\n",
       "      <td>-39.37</td>\n",
       "      <td>184301.3617</td>\n",
       "      <td>704.52</td>\n",
       "      <td>0.006033</td>\n",
       "      <td>1</td>\n",
       "      <td>0.015090</td>\n",
       "    </tr>\n",
       "    <tr>\n",
       "      <th>1</th>\n",
       "      <td>23673682000107</td>\n",
       "      <td>ALINE FAVERO DO NASCIMENTO</td>\n",
       "      <td>BA</td>\n",
       "      <td>PRADO</td>\n",
       "      <td>SAO BRAS</td>\n",
       "      <td>-17.34</td>\n",
       "      <td>-39.22</td>\n",
       "      <td>157085.2382</td>\n",
       "      <td>886.80</td>\n",
       "      <td>0.007594</td>\n",
       "      <td>1</td>\n",
       "      <td>0.015090</td>\n",
       "    </tr>\n",
       "    <tr>\n",
       "      <th>2</th>\n",
       "      <td>9190998000109</td>\n",
       "      <td>SUPERMERCADO PAGANINI LTDA</td>\n",
       "      <td>ES</td>\n",
       "      <td>ANCHIETA</td>\n",
       "      <td>OLIVEIRA</td>\n",
       "      <td>-20.79</td>\n",
       "      <td>-40.65</td>\n",
       "      <td>111105.3093</td>\n",
       "      <td>668.00</td>\n",
       "      <td>0.005720</td>\n",
       "      <td>2</td>\n",
       "      <td>0.030180</td>\n",
       "    </tr>\n",
       "    <tr>\n",
       "      <th>3</th>\n",
       "      <td>31759699000444</td>\n",
       "      <td>COMERCIAL DEVENS LTDA</td>\n",
       "      <td>ES</td>\n",
       "      <td>ARACRUZ</td>\n",
       "      <td>COQUEIRAL</td>\n",
       "      <td>-19.82</td>\n",
       "      <td>-40.27</td>\n",
       "      <td>392874.5203</td>\n",
       "      <td>1350.46</td>\n",
       "      <td>0.011564</td>\n",
       "      <td>3</td>\n",
       "      <td>0.045269</td>\n",
       "    </tr>\n",
       "    <tr>\n",
       "      <th>4</th>\n",
       "      <td>31759699000363</td>\n",
       "      <td>COMERCIAL DEVENS LTDA.</td>\n",
       "      <td>ES</td>\n",
       "      <td>ARACRUZ</td>\n",
       "      <td>CENTRO</td>\n",
       "      <td>-19.82</td>\n",
       "      <td>-40.27</td>\n",
       "      <td>392874.5203</td>\n",
       "      <td>4533.71</td>\n",
       "      <td>0.038824</td>\n",
       "      <td>6</td>\n",
       "      <td>0.090539</td>\n",
       "    </tr>\n",
       "  </tbody>\n",
       "</table>\n",
       "</div>"
      ],
      "text/plain": [
       "             CNPJ                      cliente  UF       cidade     bairro  \\\n",
       "0   7394215000183  GILVERLAN BARBOSA SOUTO EPP  BA  NOVA VICOSA     VICOSA   \n",
       "1  23673682000107   ALINE FAVERO DO NASCIMENTO  BA        PRADO   SAO BRAS   \n",
       "2   9190998000109   SUPERMERCADO PAGANINI LTDA  ES     ANCHIETA   OLIVEIRA   \n",
       "3  31759699000444        COMERCIAL DEVENS LTDA  ES      ARACRUZ  COQUEIRAL   \n",
       "4  31759699000363       COMERCIAL DEVENS LTDA.  ES      ARACRUZ     CENTRO   \n",
       "\n",
       "   latitude  longitude        Valor  Compras  P%_Compras  QtyCompras  \\\n",
       "0    -17.89     -39.37  184301.3617   704.52    0.006033           1   \n",
       "1    -17.34     -39.22  157085.2382   886.80    0.007594           1   \n",
       "2    -20.79     -40.65  111105.3093   668.00    0.005720           2   \n",
       "3    -19.82     -40.27  392874.5203  1350.46    0.011564           3   \n",
       "4    -19.82     -40.27  392874.5203  4533.71    0.038824           6   \n",
       "\n",
       "   frequencia  \n",
       "0    0.015090  \n",
       "1    0.015090  \n",
       "2    0.030180  \n",
       "3    0.045269  \n",
       "4    0.090539  "
      ]
     },
     "execution_count": 52,
     "metadata": {},
     "output_type": "execute_result"
    }
   ],
   "source": [
    "Supra_Cli.head()"
   ]
  },
  {
   "cell_type": "code",
   "execution_count": 53,
   "metadata": {},
   "outputs": [],
   "source": [
    "Supra_Cli = Supra_Cli.sort_values(by=['UF','cidade','cliente'],ascending=True, na_position='first').reset_index(drop=True)"
   ]
  },
  {
   "cell_type": "code",
   "execution_count": 54,
   "metadata": {},
   "outputs": [
    {
     "data": {
      "text/html": [
       "<div>\n",
       "<style scoped>\n",
       "    .dataframe tbody tr th:only-of-type {\n",
       "        vertical-align: middle;\n",
       "    }\n",
       "\n",
       "    .dataframe tbody tr th {\n",
       "        vertical-align: top;\n",
       "    }\n",
       "\n",
       "    .dataframe thead th {\n",
       "        text-align: right;\n",
       "    }\n",
       "</style>\n",
       "<table border=\"1\" class=\"dataframe\">\n",
       "  <thead>\n",
       "    <tr style=\"text-align: right;\">\n",
       "      <th></th>\n",
       "      <th>CNPJ</th>\n",
       "      <th>cliente</th>\n",
       "      <th>UF</th>\n",
       "      <th>cidade</th>\n",
       "      <th>bairro</th>\n",
       "      <th>latitude</th>\n",
       "      <th>longitude</th>\n",
       "      <th>Valor</th>\n",
       "      <th>Compras</th>\n",
       "      <th>P%_Compras</th>\n",
       "      <th>QtyCompras</th>\n",
       "      <th>frequencia</th>\n",
       "    </tr>\n",
       "  </thead>\n",
       "  <tbody>\n",
       "    <tr>\n",
       "      <th>0</th>\n",
       "      <td>7394215000183</td>\n",
       "      <td>GILVERLAN BARBOSA SOUTO EPP</td>\n",
       "      <td>BA</td>\n",
       "      <td>NOVA VICOSA</td>\n",
       "      <td>VICOSA</td>\n",
       "      <td>-17.89</td>\n",
       "      <td>-39.37</td>\n",
       "      <td>184301.3617</td>\n",
       "      <td>704.52</td>\n",
       "      <td>0.006033</td>\n",
       "      <td>1</td>\n",
       "      <td>0.015090</td>\n",
       "    </tr>\n",
       "    <tr>\n",
       "      <th>1</th>\n",
       "      <td>23673682000107</td>\n",
       "      <td>ALINE FAVERO DO NASCIMENTO</td>\n",
       "      <td>BA</td>\n",
       "      <td>PRADO</td>\n",
       "      <td>SAO BRAS</td>\n",
       "      <td>-17.34</td>\n",
       "      <td>-39.22</td>\n",
       "      <td>157085.2382</td>\n",
       "      <td>886.80</td>\n",
       "      <td>0.007594</td>\n",
       "      <td>1</td>\n",
       "      <td>0.015090</td>\n",
       "    </tr>\n",
       "    <tr>\n",
       "      <th>2</th>\n",
       "      <td>9190998000109</td>\n",
       "      <td>SUPERMERCADO PAGANINI LTDA</td>\n",
       "      <td>ES</td>\n",
       "      <td>ANCHIETA</td>\n",
       "      <td>OLIVEIRA</td>\n",
       "      <td>-20.79</td>\n",
       "      <td>-40.65</td>\n",
       "      <td>111105.3093</td>\n",
       "      <td>668.00</td>\n",
       "      <td>0.005720</td>\n",
       "      <td>2</td>\n",
       "      <td>0.030180</td>\n",
       "    </tr>\n",
       "    <tr>\n",
       "      <th>3</th>\n",
       "      <td>31759699000444</td>\n",
       "      <td>COMERCIAL DEVENS LTDA</td>\n",
       "      <td>ES</td>\n",
       "      <td>ARACRUZ</td>\n",
       "      <td>COQUEIRAL</td>\n",
       "      <td>-19.82</td>\n",
       "      <td>-40.27</td>\n",
       "      <td>392874.5203</td>\n",
       "      <td>1350.46</td>\n",
       "      <td>0.011564</td>\n",
       "      <td>3</td>\n",
       "      <td>0.045269</td>\n",
       "    </tr>\n",
       "    <tr>\n",
       "      <th>4</th>\n",
       "      <td>31759699000363</td>\n",
       "      <td>COMERCIAL DEVENS LTDA.</td>\n",
       "      <td>ES</td>\n",
       "      <td>ARACRUZ</td>\n",
       "      <td>CENTRO</td>\n",
       "      <td>-19.82</td>\n",
       "      <td>-40.27</td>\n",
       "      <td>392874.5203</td>\n",
       "      <td>4533.71</td>\n",
       "      <td>0.038824</td>\n",
       "      <td>6</td>\n",
       "      <td>0.090539</td>\n",
       "    </tr>\n",
       "  </tbody>\n",
       "</table>\n",
       "</div>"
      ],
      "text/plain": [
       "             CNPJ                      cliente  UF       cidade     bairro  \\\n",
       "0   7394215000183  GILVERLAN BARBOSA SOUTO EPP  BA  NOVA VICOSA     VICOSA   \n",
       "1  23673682000107   ALINE FAVERO DO NASCIMENTO  BA        PRADO   SAO BRAS   \n",
       "2   9190998000109   SUPERMERCADO PAGANINI LTDA  ES     ANCHIETA   OLIVEIRA   \n",
       "3  31759699000444        COMERCIAL DEVENS LTDA  ES      ARACRUZ  COQUEIRAL   \n",
       "4  31759699000363       COMERCIAL DEVENS LTDA.  ES      ARACRUZ     CENTRO   \n",
       "\n",
       "   latitude  longitude        Valor  Compras  P%_Compras  QtyCompras  \\\n",
       "0    -17.89     -39.37  184301.3617   704.52    0.006033           1   \n",
       "1    -17.34     -39.22  157085.2382   886.80    0.007594           1   \n",
       "2    -20.79     -40.65  111105.3093   668.00    0.005720           2   \n",
       "3    -19.82     -40.27  392874.5203  1350.46    0.011564           3   \n",
       "4    -19.82     -40.27  392874.5203  4533.71    0.038824           6   \n",
       "\n",
       "   frequencia  \n",
       "0    0.015090  \n",
       "1    0.015090  \n",
       "2    0.030180  \n",
       "3    0.045269  \n",
       "4    0.090539  "
      ]
     },
     "execution_count": 54,
     "metadata": {},
     "output_type": "execute_result"
    }
   ],
   "source": [
    "Supra_Cli.head()"
   ]
  },
  {
   "cell_type": "markdown",
   "metadata": {},
   "source": [
    "#### Update Customer's Table with Geographical location"
   ]
  },
  {
   "cell_type": "code",
   "execution_count": 55,
   "metadata": {},
   "outputs": [],
   "source": [
    "Supra_Cli.to_csv('C:/Mettricx/Projetos/SupraAlimentos/PowerBI/Supra_Cli_Features.csv',encoding='utf-8', index=False)"
   ]
  },
  {
   "cell_type": "code",
   "execution_count": 57,
   "metadata": {},
   "outputs": [],
   "source": [
    "Supra_Cli.drop(['CNPJ'],axis = 1, inplace = True)"
   ]
  },
  {
   "cell_type": "code",
   "execution_count": 58,
   "metadata": {},
   "outputs": [
    {
     "data": {
      "text/html": [
       "<div>\n",
       "<style scoped>\n",
       "    .dataframe tbody tr th:only-of-type {\n",
       "        vertical-align: middle;\n",
       "    }\n",
       "\n",
       "    .dataframe tbody tr th {\n",
       "        vertical-align: top;\n",
       "    }\n",
       "\n",
       "    .dataframe thead th {\n",
       "        text-align: right;\n",
       "    }\n",
       "</style>\n",
       "<table border=\"1\" class=\"dataframe\">\n",
       "  <thead>\n",
       "    <tr style=\"text-align: right;\">\n",
       "      <th></th>\n",
       "      <th>cliente</th>\n",
       "      <th>UF</th>\n",
       "      <th>cidade</th>\n",
       "      <th>bairro</th>\n",
       "      <th>latitude</th>\n",
       "      <th>longitude</th>\n",
       "      <th>Valor</th>\n",
       "      <th>Compras</th>\n",
       "      <th>P%_Compras</th>\n",
       "      <th>QtyCompras</th>\n",
       "      <th>frequencia</th>\n",
       "    </tr>\n",
       "  </thead>\n",
       "  <tbody>\n",
       "    <tr>\n",
       "      <th>0</th>\n",
       "      <td>GILVERLAN BARBOSA SOUTO EPP</td>\n",
       "      <td>BA</td>\n",
       "      <td>NOVA VICOSA</td>\n",
       "      <td>VICOSA</td>\n",
       "      <td>-17.89</td>\n",
       "      <td>-39.37</td>\n",
       "      <td>184301.3617</td>\n",
       "      <td>704.52</td>\n",
       "      <td>0.006033</td>\n",
       "      <td>1</td>\n",
       "      <td>0.015090</td>\n",
       "    </tr>\n",
       "    <tr>\n",
       "      <th>1</th>\n",
       "      <td>ALINE FAVERO DO NASCIMENTO</td>\n",
       "      <td>BA</td>\n",
       "      <td>PRADO</td>\n",
       "      <td>SAO BRAS</td>\n",
       "      <td>-17.34</td>\n",
       "      <td>-39.22</td>\n",
       "      <td>157085.2382</td>\n",
       "      <td>886.80</td>\n",
       "      <td>0.007594</td>\n",
       "      <td>1</td>\n",
       "      <td>0.015090</td>\n",
       "    </tr>\n",
       "    <tr>\n",
       "      <th>2</th>\n",
       "      <td>SUPERMERCADO PAGANINI LTDA</td>\n",
       "      <td>ES</td>\n",
       "      <td>ANCHIETA</td>\n",
       "      <td>OLIVEIRA</td>\n",
       "      <td>-20.79</td>\n",
       "      <td>-40.65</td>\n",
       "      <td>111105.3093</td>\n",
       "      <td>668.00</td>\n",
       "      <td>0.005720</td>\n",
       "      <td>2</td>\n",
       "      <td>0.030180</td>\n",
       "    </tr>\n",
       "    <tr>\n",
       "      <th>3</th>\n",
       "      <td>COMERCIAL DEVENS LTDA</td>\n",
       "      <td>ES</td>\n",
       "      <td>ARACRUZ</td>\n",
       "      <td>COQUEIRAL</td>\n",
       "      <td>-19.82</td>\n",
       "      <td>-40.27</td>\n",
       "      <td>392874.5203</td>\n",
       "      <td>1350.46</td>\n",
       "      <td>0.011564</td>\n",
       "      <td>3</td>\n",
       "      <td>0.045269</td>\n",
       "    </tr>\n",
       "    <tr>\n",
       "      <th>4</th>\n",
       "      <td>COMERCIAL DEVENS LTDA.</td>\n",
       "      <td>ES</td>\n",
       "      <td>ARACRUZ</td>\n",
       "      <td>CENTRO</td>\n",
       "      <td>-19.82</td>\n",
       "      <td>-40.27</td>\n",
       "      <td>392874.5203</td>\n",
       "      <td>4533.71</td>\n",
       "      <td>0.038824</td>\n",
       "      <td>6</td>\n",
       "      <td>0.090539</td>\n",
       "    </tr>\n",
       "  </tbody>\n",
       "</table>\n",
       "</div>"
      ],
      "text/plain": [
       "                       cliente  UF       cidade     bairro  latitude  \\\n",
       "0  GILVERLAN BARBOSA SOUTO EPP  BA  NOVA VICOSA     VICOSA    -17.89   \n",
       "1   ALINE FAVERO DO NASCIMENTO  BA        PRADO   SAO BRAS    -17.34   \n",
       "2   SUPERMERCADO PAGANINI LTDA  ES     ANCHIETA   OLIVEIRA    -20.79   \n",
       "3        COMERCIAL DEVENS LTDA  ES      ARACRUZ  COQUEIRAL    -19.82   \n",
       "4       COMERCIAL DEVENS LTDA.  ES      ARACRUZ     CENTRO    -19.82   \n",
       "\n",
       "   longitude        Valor  Compras  P%_Compras  QtyCompras  frequencia  \n",
       "0     -39.37  184301.3617   704.52    0.006033           1    0.015090  \n",
       "1     -39.22  157085.2382   886.80    0.007594           1    0.015090  \n",
       "2     -40.65  111105.3093   668.00    0.005720           2    0.030180  \n",
       "3     -40.27  392874.5203  1350.46    0.011564           3    0.045269  \n",
       "4     -40.27  392874.5203  4533.71    0.038824           6    0.090539  "
      ]
     },
     "execution_count": 58,
     "metadata": {},
     "output_type": "execute_result"
    }
   ],
   "source": [
    "Supra_Cli.head()"
   ]
  },
  {
   "cell_type": "code",
   "execution_count": 59,
   "metadata": {},
   "outputs": [
    {
     "data": {
      "image/png": "[encoded data removed]",
      "text/plain": [
       "<Figure size 1440x1080 with 9 Axes>"
      ]
     },
     "metadata": {},
     "output_type": "display_data"
    }
   ],
   "source": [
    "import matplotlib.pyplot as plt\n",
    "Supra_Cli.hist(bins=50, figsize=(20,15))\n",
    "plt.show()"
   ]
  },
  {
   "cell_type": "code",
   "execution_count": 63,
   "metadata": {},
   "outputs": [],
   "source": [
    "Supra_Cli['latitude'] = Supra_Cli['latitude'] *-1"
   ]
  },
  {
   "cell_type": "code",
   "execution_count": 65,
   "metadata": {},
   "outputs": [],
   "source": [
    "Supra_Cli['longitude'] = Supra_Cli['longitude']*-1"
   ]
  },
  {
   "cell_type": "code",
   "execution_count": 93,
   "metadata": {},
   "outputs": [],
   "source": [
    "x = Supra_Cli.iloc[:,[5,6]].values"
   ]
  },
  {
   "cell_type": "code",
   "execution_count": 94,
   "metadata": {},
   "outputs": [
    {
     "data": {
      "text/plain": [
       "array([[3.93700000e+01, 1.84301362e+05],\n",
       "       [3.92200000e+01, 1.57085238e+05],\n",
       "       [4.06500000e+01, 1.11105309e+05],\n",
       "       ...,\n",
       "       [4.66300000e+01, 9.83943600e+06],\n",
       "       [4.66300000e+01, 9.83943600e+06],\n",
       "       [4.66300000e+01, 9.83943600e+06]])"
      ]
     },
     "execution_count": 94,
     "metadata": {},
     "output_type": "execute_result"
    }
   ],
   "source": [
    "x"
   ]
  },
  {
   "cell_type": "markdown",
   "metadata": {},
   "source": [
    "#### Finding number of cluster"
   ]
  },
  {
   "cell_type": "code",
   "execution_count": 95,
   "metadata": {},
   "outputs": [],
   "source": [
    "import scipy.cluster.hierarchy as sch"
   ]
  },
  {
   "cell_type": "code",
   "execution_count": 96,
   "metadata": {},
   "outputs": [
    {
     "data": {
      "image/png": "[encoded data removed]",
      "text/plain": [
       "<Figure size 432x288 with 1 Axes>"
      ]
     },
     "metadata": {},
     "output_type": "display_data"
    }
   ],
   "source": [
    "dendogran = sch.dendrogram(sch.linkage(x, method='ward'))"
   ]
  },
  {
   "cell_type": "markdown",
   "metadata": {},
   "source": [
    "#### Fitting the cluster"
   ]
  },
  {
   "cell_type": "code",
   "execution_count": 97,
   "metadata": {},
   "outputs": [],
   "source": [
    "from sklearn.cluster import AgglomerativeClustering"
   ]
  },
  {
   "cell_type": "code",
   "execution_count": 98,
   "metadata": {},
   "outputs": [],
   "source": [
    "hc = AgglomerativeClustering(n_clusters = 3, affinity= 'euclidean', linkage = 'ward')"
   ]
  },
  {
   "cell_type": "code",
   "execution_count": 99,
   "metadata": {},
   "outputs": [],
   "source": [
    "y_hc = hc.fit(x)"
   ]
  },
  {
   "cell_type": "code",
   "execution_count": 103,
   "metadata": {},
   "outputs": [
    {
     "data": {
      "text/plain": [
       "Text(0,0.5,'Compras')"
      ]
     },
     "execution_count": 103,
     "metadata": {},
     "output_type": "execute_result"
    },
    {
     "data": {
      "image/png": "[encoded data removed]",
      "text/plain": [
       "<Figure size 432x288 with 1 Axes>"
      ]
     },
     "metadata": {},
     "output_type": "display_data"
    }
   ],
   "source": [
    "# Visualising the clusters\n",
    "plt.scatter(x[y_hc == 0, 0], x[y_hc == 0, 1], s = 600, c = 'red',  label = 'Cluster 1')\n",
    "plt.scatter(x[y_hc == 1, 0], x[y_hc == 1, 1], s = 100, c = 'blue', label = 'Cluster 2')\n",
    "plt.scatter(x[y_hc == 2, 0], x[y_hc == 2, 1], s = 100, c = 'blue', label = 'Cluster 2')\n",
    "plt.title('Clientes ')\n",
    "plt.xlabel('Localização')\n",
    "plt.ylabel('Compras')"
   ]
  },
  {
   "cell_type": "code",
   "execution_count": 105,
   "metadata": {},
   "outputs": [],
   "source": [
    "from sklearn.cluster import KMeans"
   ]
  },
  {
   "cell_type": "code",
   "execution_count": 111,
   "metadata": {},
   "outputs": [
    {
     "data": {
      "text/plain": [
       "Text(0,0.5,'Compras')"
      ]
     },
     "execution_count": 111,
     "metadata": {},
     "output_type": "execute_result"
    },
    {
     "data": {
      "image/png": "[encoded data removed]",
      "text/plain": [
       "<Figure size 432x288 with 1 Axes>"
      ]
     },
     "metadata": {},
     "output_type": "display_data"
    }
   ],
   "source": [
    "plt.scatter(x[:,0],x[:,1], s=10, linewidths = 1)\n",
    "plt.title('Clientes ')\n",
    "plt.xlabel('Localização')\n",
    "plt.ylabel('Compras')"
   ]
  },
  {
   "cell_type": "code",
   "execution_count": 112,
   "metadata": {},
   "outputs": [],
   "source": [
    "clf =  KMeans(n_clusters = 3)"
   ]
  },
  {
   "cell_type": "code",
   "execution_count": 113,
   "metadata": {},
   "outputs": [
    {
     "data": {
      "text/plain": [
       "KMeans(algorithm='auto', copy_x=True, init='k-means++', max_iter=300,\n",
       "    n_clusters=3, n_init=10, n_jobs=1, precompute_distances='auto',\n",
       "    random_state=None, tol=0.0001, verbose=0)"
      ]
     },
     "execution_count": 113,
     "metadata": {},
     "output_type": "execute_result"
    }
   ],
   "source": [
    "clf.fit(x)"
   ]
  },
  {
   "cell_type": "code",
   "execution_count": 114,
   "metadata": {},
   "outputs": [],
   "source": [
    "centroids = clf.cluster_centers_"
   ]
  },
  {
   "cell_type": "code",
   "execution_count": 115,
   "metadata": {},
   "outputs": [],
   "source": [
    "labels = clf.labels_"
   ]
  },
  {
   "cell_type": "code",
   "execution_count": 116,
   "metadata": {},
   "outputs": [],
   "source": [
    "colors = [\"g.\",\"r.\",\"c.\",\"b.\"]"
   ]
  },
  {
   "cell_type": "code",
   "execution_count": 126,
   "metadata": {},
   "outputs": [
    {
     "data": {
      "image/png": "[encoded data removed]",
      "text/plain": [
       "<Figure size 432x288 with 1 Axes>"
      ]
     },
     "metadata": {},
     "output_type": "display_data"
    }
   ],
   "source": [
    "plt.scatter(centroids[:,0], centroids[:,1], marker = 'x', s = 10, linewidths = 10)\n",
    "for i in range(len(x)):\n",
    "    plt.plot(x[i][0],x[i][1], colors[labels[i]], markersize=15)\n",
    "\n"
   ]
  },
  {
   "cell_type": "code",
   "execution_count": 121,
   "metadata": {},
   "outputs": [
    {
     "data": {
      "text/plain": [
       "<matplotlib.collections.PathCollection at 0x2436a99acc0>"
      ]
     },
     "execution_count": 121,
     "metadata": {},
     "output_type": "execute_result"
    },
    {
     "data": {
      "image/png": "[encoded data removed]",
      "text/plain": [
       "<Figure size 432x288 with 1 Axes>"
      ]
     },
     "metadata": {},
     "output_type": "display_data"
    }
   ],
   "source": [
    "plt.scatter(centroids[:,0], centroids[:,1], marker = 'x', s = 10, linewidths = 1)"
   ]
  },
  {
   "cell_type": "code",
   "execution_count": null,
   "metadata": {},
   "outputs": [],
   "source": []
  }
 ],
 "metadata": {
  "celltoolbar": "Raw Cell Format",
  "kernelspec": {
   "display_name": "Python 3",
   "language": "python",
   "name": "python3"
  },
  "language_info": {
   "codemirror_mode": {
    "name": "ipython",
    "version": 3
   },
   "file_extension": ".py",
   "mimetype": "text/x-python",
   "name": "python",
   "nbconvert_exporter": "python",
   "pygments_lexer": "ipython3",
   "version": "3.6.5"
  }
 },
 "nbformat": 4,
 "nbformat_minor": 1
}
