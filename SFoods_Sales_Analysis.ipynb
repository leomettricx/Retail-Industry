{
 "cells": [
  {
   "cell_type": "raw",
   "metadata": {},
   "source": [
    "Definir:\n",
    "1 - Customer Purchasing Profile\n",
    "2 - Classify customers by volume and purchase frequency.\n",
    "3 - What each customer buys and how often.\n",
    "4 - Evolução dos produtos Oferecidos\n",
    "5 - Classificar produtos por tipo.Varios produtos identicos com códigos diferentes em função da embalagem\n",
    "6 - Análise geográfica x volume x produto"
   ]
  },
  {
   "cell_type": "code",
   "execution_count": 25,
   "metadata": {},
   "outputs": [
    {
     "data": {
      "text/plain": [
       "'Portuguese_Brazil.1252'"
      ]
     },
     "execution_count": 25,
     "metadata": {},
     "output_type": "execute_result"
    }
   ],
   "source": [
    "import pandas as pd\n",
    "import numpy as np\n",
    "import locale\n",
    "import matplotlib.pyplot as plt\n",
    "import seaborn as sns\n",
    "%matplotlib inline\n",
    "\n",
    "# Define Moeda Brasileira numeros R$ 1.000,00\n",
    "locale.setlocale( locale.LC_ALL, '' )\n",
    "#locale.currency( g, grouping = True )"
   ]
  },
  {
   "cell_type": "code",
   "execution_count": 26,
   "metadata": {},
   "outputs": [],
   "source": [
    "#locale.currency( g, grouping = True )"
   ]
  },
  {
   "cell_type": "code",
   "execution_count": 27,
   "metadata": {},
   "outputs": [],
   "source": [
    "from numpy.random import randn\n",
    "#np.random.seed(101)"
   ]
  },
  {
   "cell_type": "code",
   "execution_count": 37,
   "metadata": {},
   "outputs": [],
   "source": [
    "# Abre o dataset\n",
    "df = pd.read_csv('C:/Mettricx/Projetos/SFoods/dataset/NFe-SupraS.csv', dtype={'cod': object, 'NF': object, 'CNPJ': object})\n"
   ]
  },
  {
   "cell_type": "code",
   "execution_count": 38,
   "metadata": {},
   "outputs": [
    {
     "data": {
      "text/html": [
       "<div>\n",
       "<style scoped>\n",
       "    .dataframe tbody tr th:only-of-type {\n",
       "        vertical-align: middle;\n",
       "    }\n",
       "\n",
       "    .dataframe tbody tr th {\n",
       "        vertical-align: top;\n",
       "    }\n",
       "\n",
       "    .dataframe thead th {\n",
       "        text-align: right;\n",
       "    }\n",
       "</style>\n",
       "<table border=\"1\" class=\"dataframe\">\n",
       "  <thead>\n",
       "    <tr style=\"text-align: right;\">\n",
       "      <th></th>\n",
       "      <th>cliente</th>\n",
       "      <th>NF</th>\n",
       "      <th>data</th>\n",
       "      <th>CNPJ</th>\n",
       "      <th>cidade</th>\n",
       "      <th>bairro</th>\n",
       "      <th>UF</th>\n",
       "      <th>cod</th>\n",
       "      <th>QTY</th>\n",
       "      <th>preco</th>\n",
       "      <th>descricao</th>\n",
       "      <th>Familia</th>\n",
       "      <th>unidade</th>\n",
       "    </tr>\n",
       "  </thead>\n",
       "  <tbody>\n",
       "    <tr>\n",
       "      <th>0</th>\n",
       "      <td>NF-E EMITIDA EM AMBIENTE DE HOMOLOGACAO - SEM ...</td>\n",
       "      <td>4</td>\n",
       "      <td>2014-08-29</td>\n",
       "      <td>27833615002018</td>\n",
       "      <td>RIO DE JANEIRO</td>\n",
       "      <td>CASIMIRO DE ABREU</td>\n",
       "      <td>RJ</td>\n",
       "      <td>020002</td>\n",
       "      <td>1</td>\n",
       "      <td>2.77</td>\n",
       "      <td>ALHO E CEBOLA  PICADINHO S/SAL  180GR</td>\n",
       "      <td>Temperos</td>\n",
       "      <td>UN</td>\n",
       "    </tr>\n",
       "    <tr>\n",
       "      <th>1</th>\n",
       "      <td>TOP GREEN FRUIT HORTIFRUITGRANJEIROS LTDA</td>\n",
       "      <td>1275</td>\n",
       "      <td>2014-10-04</td>\n",
       "      <td>09642314000162</td>\n",
       "      <td>ARARUAMA</td>\n",
       "      <td>CENTRO</td>\n",
       "      <td>RJ</td>\n",
       "      <td>020002</td>\n",
       "      <td>24</td>\n",
       "      <td>66.48</td>\n",
       "      <td>ALHO E CEBOLA  PICADINHO S/SAL  180GR</td>\n",
       "      <td>Temperos</td>\n",
       "      <td>UN</td>\n",
       "    </tr>\n",
       "    <tr>\n",
       "      <th>2</th>\n",
       "      <td>M L ZIELINSKI LANCHONETE E CONVENIENCIA</td>\n",
       "      <td>1285</td>\n",
       "      <td>2014-10-09</td>\n",
       "      <td>20815576000114</td>\n",
       "      <td>MACAE</td>\n",
       "      <td>SOL E MAR</td>\n",
       "      <td>RJ</td>\n",
       "      <td>020002</td>\n",
       "      <td>2</td>\n",
       "      <td>5.54</td>\n",
       "      <td>ALHO E CEBOLA  PICADINHO S/SAL  180GR</td>\n",
       "      <td>Temperos</td>\n",
       "      <td>UN</td>\n",
       "    </tr>\n",
       "    <tr>\n",
       "      <th>3</th>\n",
       "      <td>NOVA ESPERANCA DE ARARUAMA LTDA EPP</td>\n",
       "      <td>1294</td>\n",
       "      <td>2014-10-14</td>\n",
       "      <td>05054332000172</td>\n",
       "      <td>ARARUAMA</td>\n",
       "      <td>MATARUNA</td>\n",
       "      <td>RJ</td>\n",
       "      <td>020002</td>\n",
       "      <td>18</td>\n",
       "      <td>49.86</td>\n",
       "      <td>ALHO E CEBOLA  PICADINHO S/SAL  180GR</td>\n",
       "      <td>Temperos</td>\n",
       "      <td>UN</td>\n",
       "    </tr>\n",
       "    <tr>\n",
       "      <th>4</th>\n",
       "      <td>SUPERMERCADO SAO JUDAS TADEU LTDA</td>\n",
       "      <td>1296</td>\n",
       "      <td>2014-10-14</td>\n",
       "      <td>09653290000147</td>\n",
       "      <td>SAQUAREMA</td>\n",
       "      <td>BACAXA</td>\n",
       "      <td>RJ</td>\n",
       "      <td>020002</td>\n",
       "      <td>12</td>\n",
       "      <td>33.24</td>\n",
       "      <td>ALHO E CEBOLA  PICADINHO S/SAL  180GR</td>\n",
       "      <td>Temperos</td>\n",
       "      <td>UN</td>\n",
       "    </tr>\n",
       "  </tbody>\n",
       "</table>\n",
       "</div>"
      ],
      "text/plain": [
       "                                             cliente    NF        data  \\\n",
       "0  NF-E EMITIDA EM AMBIENTE DE HOMOLOGACAO - SEM ...     4  2014-08-29   \n",
       "1          TOP GREEN FRUIT HORTIFRUITGRANJEIROS LTDA  1275  2014-10-04   \n",
       "2            M L ZIELINSKI LANCHONETE E CONVENIENCIA  1285  2014-10-09   \n",
       "3                NOVA ESPERANCA DE ARARUAMA LTDA EPP  1294  2014-10-14   \n",
       "4                  SUPERMERCADO SAO JUDAS TADEU LTDA  1296  2014-10-14   \n",
       "\n",
       "             CNPJ          cidade             bairro  UF     cod  QTY  preco  \\\n",
       "0  27833615002018  RIO DE JANEIRO  CASIMIRO DE ABREU  RJ  020002    1   2.77   \n",
       "1  09642314000162        ARARUAMA             CENTRO  RJ  020002   24  66.48   \n",
       "2  20815576000114           MACAE          SOL E MAR  RJ  020002    2   5.54   \n",
       "3  05054332000172        ARARUAMA           MATARUNA  RJ  020002   18  49.86   \n",
       "4  09653290000147       SAQUAREMA             BACAXA  RJ  020002   12  33.24   \n",
       "\n",
       "                               descricao   Familia unidade  \n",
       "0  ALHO E CEBOLA  PICADINHO S/SAL  180GR  Temperos      UN  \n",
       "1  ALHO E CEBOLA  PICADINHO S/SAL  180GR  Temperos      UN  \n",
       "2  ALHO E CEBOLA  PICADINHO S/SAL  180GR  Temperos      UN  \n",
       "3  ALHO E CEBOLA  PICADINHO S/SAL  180GR  Temperos      UN  \n",
       "4  ALHO E CEBOLA  PICADINHO S/SAL  180GR  Temperos      UN  "
      ]
     },
     "execution_count": 38,
     "metadata": {},
     "output_type": "execute_result"
    }
   ],
   "source": [
    "df.head()"
   ]
  },
  {
   "cell_type": "markdown",
   "metadata": {},
   "source": [
    "#### Total revenues\n"
   ]
  },
  {
   "cell_type": "code",
   "execution_count": 41,
   "metadata": {},
   "outputs": [],
   "source": [
    "FaturamentoTotal=df['preco'].sum()\n"
   ]
  },
  {
   "cell_type": "code",
   "execution_count": 42,
   "metadata": {},
   "outputs": [
    {
     "data": {
      "text/plain": [
       "11498904.42"
      ]
     },
     "execution_count": 42,
     "metadata": {},
     "output_type": "execute_result"
    }
   ],
   "source": [
    "FaturamentoTotal"
   ]
  },
  {
   "cell_type": "markdown",
   "metadata": {
    "collapsed": true
   },
   "source": [
    "#### The total number of Invoice Issued in the Period"
   ]
  },
  {
   "cell_type": "code",
   "execution_count": 47,
   "metadata": {},
   "outputs": [],
   "source": [
    "NotasFiscais = df['NF']"
   ]
  },
  {
   "cell_type": "code",
   "execution_count": 48,
   "metadata": {},
   "outputs": [],
   "source": [
    "NotasFiscais = NotasFiscais.drop_duplicates()"
   ]
  },
  {
   "cell_type": "code",
   "execution_count": 49,
   "metadata": {},
   "outputs": [],
   "source": [
    "TotalNFEmitidas = len(NotasFiscais)"
   ]
  },
  {
   "cell_type": "code",
   "execution_count": 50,
   "metadata": {},
   "outputs": [
    {
     "data": {
      "text/plain": [
       "6599"
      ]
     },
     "execution_count": 50,
     "metadata": {},
     "output_type": "execute_result"
    }
   ],
   "source": [
    "TotalNFEmitidas "
   ]
  },
  {
   "cell_type": "markdown",
   "metadata": {},
   "source": [
    "#### Monthly Sales"
   ]
  },
  {
   "cell_type": "code",
   "execution_count": 51,
   "metadata": {},
   "outputs": [],
   "source": [
    "Vendas = df[['data','preco']].groupby(df['data'].str[0:7]).sum().reset_index()"
   ]
  },
  {
   "cell_type": "code",
   "execution_count": 52,
   "metadata": {},
   "outputs": [
    {
     "data": {
      "text/html": [
       "<div>\n",
       "<style scoped>\n",
       "    .dataframe tbody tr th:only-of-type {\n",
       "        vertical-align: middle;\n",
       "    }\n",
       "\n",
       "    .dataframe tbody tr th {\n",
       "        vertical-align: top;\n",
       "    }\n",
       "\n",
       "    .dataframe thead th {\n",
       "        text-align: right;\n",
       "    }\n",
       "</style>\n",
       "<table border=\"1\" class=\"dataframe\">\n",
       "  <thead>\n",
       "    <tr style=\"text-align: right;\">\n",
       "      <th></th>\n",
       "      <th>data</th>\n",
       "      <th>preco</th>\n",
       "    </tr>\n",
       "  </thead>\n",
       "  <tbody>\n",
       "    <tr>\n",
       "      <th>0</th>\n",
       "      <td>2014-08</td>\n",
       "      <td>25.15</td>\n",
       "    </tr>\n",
       "    <tr>\n",
       "      <th>1</th>\n",
       "      <td>2014-09</td>\n",
       "      <td>30112.97</td>\n",
       "    </tr>\n",
       "    <tr>\n",
       "      <th>2</th>\n",
       "      <td>2014-10</td>\n",
       "      <td>163876.63</td>\n",
       "    </tr>\n",
       "    <tr>\n",
       "      <th>3</th>\n",
       "      <td>2014-11</td>\n",
       "      <td>198276.21</td>\n",
       "    </tr>\n",
       "    <tr>\n",
       "      <th>4</th>\n",
       "      <td>2014-12</td>\n",
       "      <td>259088.05</td>\n",
       "    </tr>\n",
       "  </tbody>\n",
       "</table>\n",
       "</div>"
      ],
      "text/plain": [
       "      data      preco\n",
       "0  2014-08      25.15\n",
       "1  2014-09   30112.97\n",
       "2  2014-10  163876.63\n",
       "3  2014-11  198276.21\n",
       "4  2014-12  259088.05"
      ]
     },
     "execution_count": 52,
     "metadata": {},
     "output_type": "execute_result"
    }
   ],
   "source": [
    "Vendas.head()"
   ]
  },
  {
   "cell_type": "markdown",
   "metadata": {},
   "source": [
    "#### Annual sales"
   ]
  },
  {
   "cell_type": "code",
   "execution_count": 53,
   "metadata": {},
   "outputs": [],
   "source": [
    "V18 = Vendas[(Vendas['data'].str[0:4]=='2018')].reset_index(drop=True)"
   ]
  },
  {
   "cell_type": "code",
   "execution_count": 54,
   "metadata": {},
   "outputs": [],
   "source": [
    "V17 = Vendas[(Vendas['data'].str[0:4]=='2017')].reset_index(drop=True)"
   ]
  },
  {
   "cell_type": "code",
   "execution_count": 55,
   "metadata": {},
   "outputs": [],
   "source": [
    "V16 = Vendas[(Vendas['data'].str[0:4]=='2016')].reset_index(drop=True)"
   ]
  },
  {
   "cell_type": "code",
   "execution_count": 56,
   "metadata": {},
   "outputs": [],
   "source": [
    "V15 = Vendas[(Vendas['data'].str[0:4]=='2015')].reset_index(drop=True)"
   ]
  },
  {
   "cell_type": "code",
   "execution_count": 57,
   "metadata": {},
   "outputs": [],
   "source": [
    "V14 = Vendas[(Vendas['data'].str[0:4]=='2014')].reset_index(drop=True)\n"
   ]
  },
  {
   "cell_type": "code",
   "execution_count": 58,
   "metadata": {},
   "outputs": [],
   "source": [
    "V14 = V14.append({'data':'2014-01','preco':0}, ignore_index=True)\n",
    "V14 = V14.append({'data':'2014-02','preco':0}, ignore_index=True)\n",
    "V14 = V14.append({'data':'2014-03','preco':0}, ignore_index=True)\n",
    "V14 = V14.append({'data':'2014-04','preco':0}, ignore_index=True)\n",
    "V14 = V14.append({'data':'2014-05','preco':0}, ignore_index=True)\n",
    "V14 = V14.append({'data':'2014-06','preco':0}, ignore_index=True)\n",
    "V14 = V14.append({'data':'2014-07','preco':0}, ignore_index=True)\n",
    "\n"
   ]
  },
  {
   "cell_type": "code",
   "execution_count": 59,
   "metadata": {},
   "outputs": [],
   "source": [
    "V14 = V14.sort_values(by=['data']).reset_index(drop=True)"
   ]
  },
  {
   "cell_type": "code",
   "execution_count": 60,
   "metadata": {},
   "outputs": [
    {
     "data": {
      "text/html": [
       "<div>\n",
       "<style scoped>\n",
       "    .dataframe tbody tr th:only-of-type {\n",
       "        vertical-align: middle;\n",
       "    }\n",
       "\n",
       "    .dataframe tbody tr th {\n",
       "        vertical-align: top;\n",
       "    }\n",
       "\n",
       "    .dataframe thead th {\n",
       "        text-align: right;\n",
       "    }\n",
       "</style>\n",
       "<table border=\"1\" class=\"dataframe\">\n",
       "  <thead>\n",
       "    <tr style=\"text-align: right;\">\n",
       "      <th></th>\n",
       "      <th>data</th>\n",
       "      <th>preco</th>\n",
       "    </tr>\n",
       "  </thead>\n",
       "  <tbody>\n",
       "    <tr>\n",
       "      <th>7</th>\n",
       "      <td>2014-08</td>\n",
       "      <td>25.15</td>\n",
       "    </tr>\n",
       "    <tr>\n",
       "      <th>8</th>\n",
       "      <td>2014-09</td>\n",
       "      <td>30112.97</td>\n",
       "    </tr>\n",
       "    <tr>\n",
       "      <th>9</th>\n",
       "      <td>2014-10</td>\n",
       "      <td>163876.63</td>\n",
       "    </tr>\n",
       "    <tr>\n",
       "      <th>10</th>\n",
       "      <td>2014-11</td>\n",
       "      <td>198276.21</td>\n",
       "    </tr>\n",
       "    <tr>\n",
       "      <th>11</th>\n",
       "      <td>2014-12</td>\n",
       "      <td>259088.05</td>\n",
       "    </tr>\n",
       "  </tbody>\n",
       "</table>\n",
       "</div>"
      ],
      "text/plain": [
       "       data      preco\n",
       "7   2014-08      25.15\n",
       "8   2014-09   30112.97\n",
       "9   2014-10  163876.63\n",
       "10  2014-11  198276.21\n",
       "11  2014-12  259088.05"
      ]
     },
     "execution_count": 60,
     "metadata": {},
     "output_type": "execute_result"
    }
   ],
   "source": [
    "V14.tail()"
   ]
  },
  {
   "cell_type": "code",
   "execution_count": 61,
   "metadata": {},
   "outputs": [],
   "source": [
    "sales = [('Mês',['Jan','Fev','Mar','Abr','Mai','Jun','Jul','Ago','Set','Out','Nov','Dez']),\n",
    "         ('2014',V14['preco']),\n",
    "         ('2015',V15['preco']),\n",
    "         ('2016',V16['preco']),\n",
    "         ('2017',V17['preco']),\n",
    "         ('2018',V18['preco']),]"
   ]
  },
  {
   "cell_type": "code",
   "execution_count": 62,
   "metadata": {},
   "outputs": [
    {
     "name": "stderr",
     "output_type": "stream",
     "text": [
      "C:\\Users\\leona\\Anaconda3\\lib\\site-packages\\ipykernel_launcher.py:1: FutureWarning: from_items is deprecated. Please use DataFrame.from_dict(dict(items), ...) instead. DataFrame.from_dict(OrderedDict(items)) may be used to preserve the key order.\n",
      "  \"\"\"Entry point for launching an IPython kernel.\n"
     ]
    }
   ],
   "source": [
    "sales_DF = pd.DataFrame.from_items(sales)"
   ]
  },
  {
   "cell_type": "code",
   "execution_count": 63,
   "metadata": {},
   "outputs": [
    {
     "data": {
      "text/html": [
       "<div>\n",
       "<style scoped>\n",
       "    .dataframe tbody tr th:only-of-type {\n",
       "        vertical-align: middle;\n",
       "    }\n",
       "\n",
       "    .dataframe tbody tr th {\n",
       "        vertical-align: top;\n",
       "    }\n",
       "\n",
       "    .dataframe thead th {\n",
       "        text-align: right;\n",
       "    }\n",
       "</style>\n",
       "<table border=\"1\" class=\"dataframe\">\n",
       "  <thead>\n",
       "    <tr style=\"text-align: right;\">\n",
       "      <th></th>\n",
       "      <th>Mês</th>\n",
       "      <th>2014</th>\n",
       "      <th>2015</th>\n",
       "      <th>2016</th>\n",
       "      <th>2017</th>\n",
       "      <th>2018</th>\n",
       "    </tr>\n",
       "  </thead>\n",
       "  <tbody>\n",
       "    <tr>\n",
       "      <th>0</th>\n",
       "      <td>Jan</td>\n",
       "      <td>0.00</td>\n",
       "      <td>165103.99</td>\n",
       "      <td>212640.71</td>\n",
       "      <td>216609.02</td>\n",
       "      <td>434700.26</td>\n",
       "    </tr>\n",
       "    <tr>\n",
       "      <th>1</th>\n",
       "      <td>Fev</td>\n",
       "      <td>0.00</td>\n",
       "      <td>185945.33</td>\n",
       "      <td>227344.29</td>\n",
       "      <td>409148.10</td>\n",
       "      <td>240627.65</td>\n",
       "    </tr>\n",
       "    <tr>\n",
       "      <th>2</th>\n",
       "      <td>Mar</td>\n",
       "      <td>0.00</td>\n",
       "      <td>229709.88</td>\n",
       "      <td>280651.12</td>\n",
       "      <td>357668.28</td>\n",
       "      <td>NaN</td>\n",
       "    </tr>\n",
       "    <tr>\n",
       "      <th>3</th>\n",
       "      <td>Abr</td>\n",
       "      <td>0.00</td>\n",
       "      <td>121420.28</td>\n",
       "      <td>264199.83</td>\n",
       "      <td>324977.92</td>\n",
       "      <td>NaN</td>\n",
       "    </tr>\n",
       "    <tr>\n",
       "      <th>4</th>\n",
       "      <td>Mai</td>\n",
       "      <td>0.00</td>\n",
       "      <td>157696.96</td>\n",
       "      <td>194735.60</td>\n",
       "      <td>402651.44</td>\n",
       "      <td>NaN</td>\n",
       "    </tr>\n",
       "    <tr>\n",
       "      <th>5</th>\n",
       "      <td>Jun</td>\n",
       "      <td>0.00</td>\n",
       "      <td>159112.07</td>\n",
       "      <td>254453.45</td>\n",
       "      <td>354314.36</td>\n",
       "      <td>NaN</td>\n",
       "    </tr>\n",
       "    <tr>\n",
       "      <th>6</th>\n",
       "      <td>Jul</td>\n",
       "      <td>0.00</td>\n",
       "      <td>223929.86</td>\n",
       "      <td>206424.09</td>\n",
       "      <td>349051.92</td>\n",
       "      <td>NaN</td>\n",
       "    </tr>\n",
       "    <tr>\n",
       "      <th>7</th>\n",
       "      <td>Ago</td>\n",
       "      <td>25.15</td>\n",
       "      <td>170528.37</td>\n",
       "      <td>294932.95</td>\n",
       "      <td>351108.02</td>\n",
       "      <td>NaN</td>\n",
       "    </tr>\n",
       "    <tr>\n",
       "      <th>8</th>\n",
       "      <td>Set</td>\n",
       "      <td>30112.97</td>\n",
       "      <td>209098.41</td>\n",
       "      <td>325393.38</td>\n",
       "      <td>349613.55</td>\n",
       "      <td>NaN</td>\n",
       "    </tr>\n",
       "    <tr>\n",
       "      <th>9</th>\n",
       "      <td>Out</td>\n",
       "      <td>163876.63</td>\n",
       "      <td>214789.59</td>\n",
       "      <td>260085.15</td>\n",
       "      <td>330428.60</td>\n",
       "      <td>NaN</td>\n",
       "    </tr>\n",
       "    <tr>\n",
       "      <th>10</th>\n",
       "      <td>Nov</td>\n",
       "      <td>198276.21</td>\n",
       "      <td>91561.74</td>\n",
       "      <td>389496.69</td>\n",
       "      <td>546231.97</td>\n",
       "      <td>NaN</td>\n",
       "    </tr>\n",
       "    <tr>\n",
       "      <th>11</th>\n",
       "      <td>Dez</td>\n",
       "      <td>259088.05</td>\n",
       "      <td>196164.14</td>\n",
       "      <td>471922.29</td>\n",
       "      <td>673054.15</td>\n",
       "      <td>NaN</td>\n",
       "    </tr>\n",
       "  </tbody>\n",
       "</table>\n",
       "</div>"
      ],
      "text/plain": [
       "    Mês       2014       2015       2016       2017       2018\n",
       "0   Jan       0.00  165103.99  212640.71  216609.02  434700.26\n",
       "1   Fev       0.00  185945.33  227344.29  409148.10  240627.65\n",
       "2   Mar       0.00  229709.88  280651.12  357668.28        NaN\n",
       "3   Abr       0.00  121420.28  264199.83  324977.92        NaN\n",
       "4   Mai       0.00  157696.96  194735.60  402651.44        NaN\n",
       "5   Jun       0.00  159112.07  254453.45  354314.36        NaN\n",
       "6   Jul       0.00  223929.86  206424.09  349051.92        NaN\n",
       "7   Ago      25.15  170528.37  294932.95  351108.02        NaN\n",
       "8   Set   30112.97  209098.41  325393.38  349613.55        NaN\n",
       "9   Out  163876.63  214789.59  260085.15  330428.60        NaN\n",
       "10  Nov  198276.21   91561.74  389496.69  546231.97        NaN\n",
       "11  Dez  259088.05  196164.14  471922.29  673054.15        NaN"
      ]
     },
     "execution_count": 63,
     "metadata": {},
     "output_type": "execute_result"
    }
   ],
   "source": [
    "sales_DF"
   ]
  },
  {
   "cell_type": "markdown",
   "metadata": {},
   "source": [
    "#### Create CSV File"
   ]
  },
  {
   "cell_type": "code",
   "execution_count": 100,
   "metadata": {},
   "outputs": [],
   "source": [
    "sales_DF.to_csv('C:/Mettricx/Projetos/SFoods/dataset/SFoods_Vendas_Anuais.csv', encoding='utf-8', index=False,  float_format='%.2f')"
   ]
  },
  {
   "cell_type": "markdown",
   "metadata": {},
   "source": [
    "####  Purchases  per customer"
   ]
  },
  {
   "cell_type": "code",
   "execution_count": 70,
   "metadata": {},
   "outputs": [],
   "source": [
    "compraDeClientes = df.groupby('CNPJ')['preco'].sum().reset_index()"
   ]
  },
  {
   "cell_type": "code",
   "execution_count": 71,
   "metadata": {},
   "outputs": [],
   "source": [
    "compraDeClientes.rename(columns={'preco': 'TotCompras'}, inplace=True)"
   ]
  },
  {
   "cell_type": "code",
   "execution_count": 72,
   "metadata": {},
   "outputs": [
    {
     "data": {
      "text/html": [
       "<div>\n",
       "<style scoped>\n",
       "    .dataframe tbody tr th:only-of-type {\n",
       "        vertical-align: middle;\n",
       "    }\n",
       "\n",
       "    .dataframe tbody tr th {\n",
       "        vertical-align: top;\n",
       "    }\n",
       "\n",
       "    .dataframe thead th {\n",
       "        text-align: right;\n",
       "    }\n",
       "</style>\n",
       "<table border=\"1\" class=\"dataframe\">\n",
       "  <thead>\n",
       "    <tr style=\"text-align: right;\">\n",
       "      <th></th>\n",
       "      <th>CNPJ</th>\n",
       "      <th>TotCompras</th>\n",
       "    </tr>\n",
       "  </thead>\n",
       "  <tbody>\n",
       "    <tr>\n",
       "      <th>0</th>\n",
       "      <td>00175479000105</td>\n",
       "      <td>14418.13</td>\n",
       "    </tr>\n",
       "    <tr>\n",
       "      <th>1</th>\n",
       "      <td>00334392000206</td>\n",
       "      <td>1511.64</td>\n",
       "    </tr>\n",
       "    <tr>\n",
       "      <th>2</th>\n",
       "      <td>00381613000116</td>\n",
       "      <td>6249.46</td>\n",
       "    </tr>\n",
       "    <tr>\n",
       "      <th>3</th>\n",
       "      <td>00803210000118</td>\n",
       "      <td>10971.35</td>\n",
       "    </tr>\n",
       "    <tr>\n",
       "      <th>4</th>\n",
       "      <td>00814123000166</td>\n",
       "      <td>8412.20</td>\n",
       "    </tr>\n",
       "  </tbody>\n",
       "</table>\n",
       "</div>"
      ],
      "text/plain": [
       "             CNPJ  TotCompras\n",
       "0  00175479000105    14418.13\n",
       "1  00334392000206     1511.64\n",
       "2  00381613000116     6249.46\n",
       "3  00803210000118    10971.35\n",
       "4  00814123000166     8412.20"
      ]
     },
     "execution_count": 72,
     "metadata": {},
     "output_type": "execute_result"
    }
   ],
   "source": [
    "compraDeClientes.head()"
   ]
  },
  {
   "cell_type": "markdown",
   "metadata": {},
   "source": [
    "#### Sort by the amount of purchase"
   ]
  },
  {
   "cell_type": "code",
   "execution_count": 73,
   "metadata": {},
   "outputs": [],
   "source": [
    "compras = compraDeClientes.sort_values(by=['TotCompras'],ascending=False, na_position='first').reset_index(drop=True)"
   ]
  },
  {
   "cell_type": "code",
   "execution_count": 74,
   "metadata": {},
   "outputs": [
    {
     "data": {
      "text/html": [
       "<div>\n",
       "<style scoped>\n",
       "    .dataframe tbody tr th:only-of-type {\n",
       "        vertical-align: middle;\n",
       "    }\n",
       "\n",
       "    .dataframe tbody tr th {\n",
       "        vertical-align: top;\n",
       "    }\n",
       "\n",
       "    .dataframe thead th {\n",
       "        text-align: right;\n",
       "    }\n",
       "</style>\n",
       "<table border=\"1\" class=\"dataframe\">\n",
       "  <thead>\n",
       "    <tr style=\"text-align: right;\">\n",
       "      <th></th>\n",
       "      <th>CNPJ</th>\n",
       "      <th>TotCompras</th>\n",
       "    </tr>\n",
       "  </thead>\n",
       "  <tbody>\n",
       "    <tr>\n",
       "      <th>0</th>\n",
       "      <td>12360891000176</td>\n",
       "      <td>474946.97</td>\n",
       "    </tr>\n",
       "    <tr>\n",
       "      <th>1</th>\n",
       "      <td>15116388000168</td>\n",
       "      <td>367559.08</td>\n",
       "    </tr>\n",
       "    <tr>\n",
       "      <th>2</th>\n",
       "      <td>12434859000198</td>\n",
       "      <td>350649.19</td>\n",
       "    </tr>\n",
       "    <tr>\n",
       "      <th>3</th>\n",
       "      <td>29840154000173</td>\n",
       "      <td>298708.56</td>\n",
       "    </tr>\n",
       "    <tr>\n",
       "      <th>4</th>\n",
       "      <td>19068286000175</td>\n",
       "      <td>281812.84</td>\n",
       "    </tr>\n",
       "  </tbody>\n",
       "</table>\n",
       "</div>"
      ],
      "text/plain": [
       "             CNPJ  TotCompras\n",
       "0  12360891000176   474946.97\n",
       "1  15116388000168   367559.08\n",
       "2  12434859000198   350649.19\n",
       "3  29840154000173   298708.56\n",
       "4  19068286000175   281812.84"
      ]
     },
     "execution_count": 74,
     "metadata": {},
     "output_type": "execute_result"
    }
   ],
   "source": [
    "compras.head()"
   ]
  },
  {
   "cell_type": "markdown",
   "metadata": {},
   "source": [
    "#### Define purchasing volume, in Reals, per Customer (Total Volume Share)"
   ]
  },
  {
   "cell_type": "code",
   "execution_count": 75,
   "metadata": {},
   "outputs": [],
   "source": [
    "compras['percenTotal']=((compras['TotCompras']/FaturamentoTotal)*100).round(3)"
   ]
  },
  {
   "cell_type": "code",
   "execution_count": 76,
   "metadata": {},
   "outputs": [
    {
     "data": {
      "text/html": [
       "<div>\n",
       "<style scoped>\n",
       "    .dataframe tbody tr th:only-of-type {\n",
       "        vertical-align: middle;\n",
       "    }\n",
       "\n",
       "    .dataframe tbody tr th {\n",
       "        vertical-align: top;\n",
       "    }\n",
       "\n",
       "    .dataframe thead th {\n",
       "        text-align: right;\n",
       "    }\n",
       "</style>\n",
       "<table border=\"1\" class=\"dataframe\">\n",
       "  <thead>\n",
       "    <tr style=\"text-align: right;\">\n",
       "      <th></th>\n",
       "      <th>CNPJ</th>\n",
       "      <th>TotCompras</th>\n",
       "      <th>percenTotal</th>\n",
       "    </tr>\n",
       "  </thead>\n",
       "  <tbody>\n",
       "    <tr>\n",
       "      <th>0</th>\n",
       "      <td>12360891000176</td>\n",
       "      <td>474946.97</td>\n",
       "      <td>4.130</td>\n",
       "    </tr>\n",
       "    <tr>\n",
       "      <th>1</th>\n",
       "      <td>15116388000168</td>\n",
       "      <td>367559.08</td>\n",
       "      <td>3.196</td>\n",
       "    </tr>\n",
       "    <tr>\n",
       "      <th>2</th>\n",
       "      <td>12434859000198</td>\n",
       "      <td>350649.19</td>\n",
       "      <td>3.049</td>\n",
       "    </tr>\n",
       "    <tr>\n",
       "      <th>3</th>\n",
       "      <td>29840154000173</td>\n",
       "      <td>298708.56</td>\n",
       "      <td>2.598</td>\n",
       "    </tr>\n",
       "    <tr>\n",
       "      <th>4</th>\n",
       "      <td>19068286000175</td>\n",
       "      <td>281812.84</td>\n",
       "      <td>2.451</td>\n",
       "    </tr>\n",
       "  </tbody>\n",
       "</table>\n",
       "</div>"
      ],
      "text/plain": [
       "             CNPJ  TotCompras  percenTotal\n",
       "0  12360891000176   474946.97        4.130\n",
       "1  15116388000168   367559.08        3.196\n",
       "2  12434859000198   350649.19        3.049\n",
       "3  29840154000173   298708.56        2.598\n",
       "4  19068286000175   281812.84        2.451"
      ]
     },
     "execution_count": 76,
     "metadata": {},
     "output_type": "execute_result"
    }
   ],
   "source": [
    "compras.head()"
   ]
  },
  {
   "cell_type": "markdown",
   "metadata": {},
   "source": [
    "#### Value of each Invoice issued"
   ]
  },
  {
   "cell_type": "code",
   "execution_count": 77,
   "metadata": {},
   "outputs": [],
   "source": [
    "ValorNF = df.groupby('NF')[\"preco\"].sum().rename(\"Total_NF\").reset_index()"
   ]
  },
  {
   "cell_type": "code",
   "execution_count": 78,
   "metadata": {},
   "outputs": [
    {
     "data": {
      "text/html": [
       "<div>\n",
       "<style scoped>\n",
       "    .dataframe tbody tr th:only-of-type {\n",
       "        vertical-align: middle;\n",
       "    }\n",
       "\n",
       "    .dataframe tbody tr th {\n",
       "        vertical-align: top;\n",
       "    }\n",
       "\n",
       "    .dataframe thead th {\n",
       "        text-align: right;\n",
       "    }\n",
       "</style>\n",
       "<table border=\"1\" class=\"dataframe\">\n",
       "  <thead>\n",
       "    <tr style=\"text-align: right;\">\n",
       "      <th></th>\n",
       "      <th>NF</th>\n",
       "      <th>Total_NF</th>\n",
       "    </tr>\n",
       "  </thead>\n",
       "  <tbody>\n",
       "    <tr>\n",
       "      <th>0</th>\n",
       "      <td>10</td>\n",
       "      <td>1.47</td>\n",
       "    </tr>\n",
       "    <tr>\n",
       "      <th>1</th>\n",
       "      <td>12</td>\n",
       "      <td>316.41</td>\n",
       "    </tr>\n",
       "    <tr>\n",
       "      <th>2</th>\n",
       "      <td>1241</td>\n",
       "      <td>1401.01</td>\n",
       "    </tr>\n",
       "    <tr>\n",
       "      <th>3</th>\n",
       "      <td>1242</td>\n",
       "      <td>1189.96</td>\n",
       "    </tr>\n",
       "    <tr>\n",
       "      <th>4</th>\n",
       "      <td>1243</td>\n",
       "      <td>1093.39</td>\n",
       "    </tr>\n",
       "  </tbody>\n",
       "</table>\n",
       "</div>"
      ],
      "text/plain": [
       "     NF  Total_NF\n",
       "0    10      1.47\n",
       "1    12    316.41\n",
       "2  1241   1401.01\n",
       "3  1242   1189.96\n",
       "4  1243   1093.39"
      ]
     },
     "execution_count": 78,
     "metadata": {},
     "output_type": "execute_result"
    }
   ],
   "source": [
    "ValorNF.head()"
   ]
  },
  {
   "cell_type": "markdown",
   "metadata": {},
   "source": [
    "#### Number of Purchases made by each Client in the Analyzed period. (Invoices Issued to the Customer)"
   ]
  },
  {
   "cell_type": "code",
   "execution_count": 79,
   "metadata": {},
   "outputs": [],
   "source": [
    "df1 = df[['CNPJ','NF']]  "
   ]
  },
  {
   "cell_type": "code",
   "execution_count": 80,
   "metadata": {},
   "outputs": [],
   "source": [
    "df1 = df1.drop_duplicates()"
   ]
  },
  {
   "cell_type": "code",
   "execution_count": 81,
   "metadata": {},
   "outputs": [
    {
     "data": {
      "text/html": [
       "<div>\n",
       "<style scoped>\n",
       "    .dataframe tbody tr th:only-of-type {\n",
       "        vertical-align: middle;\n",
       "    }\n",
       "\n",
       "    .dataframe tbody tr th {\n",
       "        vertical-align: top;\n",
       "    }\n",
       "\n",
       "    .dataframe thead th {\n",
       "        text-align: right;\n",
       "    }\n",
       "</style>\n",
       "<table border=\"1\" class=\"dataframe\">\n",
       "  <thead>\n",
       "    <tr style=\"text-align: right;\">\n",
       "      <th></th>\n",
       "      <th>CNPJ</th>\n",
       "      <th>NF</th>\n",
       "    </tr>\n",
       "  </thead>\n",
       "  <tbody>\n",
       "    <tr>\n",
       "      <th>0</th>\n",
       "      <td>27833615002018</td>\n",
       "      <td>4</td>\n",
       "    </tr>\n",
       "    <tr>\n",
       "      <th>1</th>\n",
       "      <td>09642314000162</td>\n",
       "      <td>1275</td>\n",
       "    </tr>\n",
       "    <tr>\n",
       "      <th>2</th>\n",
       "      <td>20815576000114</td>\n",
       "      <td>1285</td>\n",
       "    </tr>\n",
       "    <tr>\n",
       "      <th>3</th>\n",
       "      <td>05054332000172</td>\n",
       "      <td>1294</td>\n",
       "    </tr>\n",
       "    <tr>\n",
       "      <th>4</th>\n",
       "      <td>09653290000147</td>\n",
       "      <td>1296</td>\n",
       "    </tr>\n",
       "  </tbody>\n",
       "</table>\n",
       "</div>"
      ],
      "text/plain": [
       "             CNPJ    NF\n",
       "0  27833615002018     4\n",
       "1  09642314000162  1275\n",
       "2  20815576000114  1285\n",
       "3  05054332000172  1294\n",
       "4  09653290000147  1296"
      ]
     },
     "execution_count": 81,
     "metadata": {},
     "output_type": "execute_result"
    }
   ],
   "source": [
    "df1.head()"
   ]
  },
  {
   "cell_type": "code",
   "execution_count": 82,
   "metadata": {},
   "outputs": [],
   "source": [
    "qtyDeCompras = df1.groupby('CNPJ').agg({'NF': \"count\"}).reset_index()   "
   ]
  },
  {
   "cell_type": "code",
   "execution_count": 83,
   "metadata": {},
   "outputs": [],
   "source": [
    "qtyDeCompras.rename(columns={'NF': 'NumCompras'}, inplace=True)"
   ]
  },
  {
   "cell_type": "code",
   "execution_count": 84,
   "metadata": {},
   "outputs": [
    {
     "data": {
      "text/html": [
       "<div>\n",
       "<style scoped>\n",
       "    .dataframe tbody tr th:only-of-type {\n",
       "        vertical-align: middle;\n",
       "    }\n",
       "\n",
       "    .dataframe tbody tr th {\n",
       "        vertical-align: top;\n",
       "    }\n",
       "\n",
       "    .dataframe thead th {\n",
       "        text-align: right;\n",
       "    }\n",
       "</style>\n",
       "<table border=\"1\" class=\"dataframe\">\n",
       "  <thead>\n",
       "    <tr style=\"text-align: right;\">\n",
       "      <th></th>\n",
       "      <th>CNPJ</th>\n",
       "      <th>NumCompras</th>\n",
       "    </tr>\n",
       "  </thead>\n",
       "  <tbody>\n",
       "    <tr>\n",
       "      <th>0</th>\n",
       "      <td>00175479000105</td>\n",
       "      <td>16</td>\n",
       "    </tr>\n",
       "    <tr>\n",
       "      <th>1</th>\n",
       "      <td>00334392000206</td>\n",
       "      <td>2</td>\n",
       "    </tr>\n",
       "    <tr>\n",
       "      <th>2</th>\n",
       "      <td>00381613000116</td>\n",
       "      <td>8</td>\n",
       "    </tr>\n",
       "    <tr>\n",
       "      <th>3</th>\n",
       "      <td>00803210000118</td>\n",
       "      <td>10</td>\n",
       "    </tr>\n",
       "    <tr>\n",
       "      <th>4</th>\n",
       "      <td>00814123000166</td>\n",
       "      <td>4</td>\n",
       "    </tr>\n",
       "  </tbody>\n",
       "</table>\n",
       "</div>"
      ],
      "text/plain": [
       "             CNPJ  NumCompras\n",
       "0  00175479000105          16\n",
       "1  00334392000206           2\n",
       "2  00381613000116           8\n",
       "3  00803210000118          10\n",
       "4  00814123000166           4"
      ]
     },
     "execution_count": 84,
     "metadata": {},
     "output_type": "execute_result"
    }
   ],
   "source": [
    "qtyDeCompras.head()"
   ]
  },
  {
   "cell_type": "markdown",
   "metadata": {},
   "source": [
    "#### Number of Invoice issued"
   ]
  },
  {
   "cell_type": "code",
   "execution_count": 86,
   "metadata": {},
   "outputs": [
    {
     "data": {
      "text/plain": [
       "6599"
      ]
     },
     "execution_count": 86,
     "metadata": {},
     "output_type": "execute_result"
    }
   ],
   "source": [
    "a=qtyDeCompras['NumCompras'].sum()\n",
    "a"
   ]
  },
  {
   "cell_type": "code",
   "execution_count": null,
   "metadata": {},
   "outputs": [],
   "source": []
  },
  {
   "cell_type": "code",
   "execution_count": 87,
   "metadata": {},
   "outputs": [],
   "source": [
    "qtyDeCompras = qtyDeCompras.sort_values(by=['NumCompras'],ascending=False, na_position='first').reset_index(drop=True)"
   ]
  },
  {
   "cell_type": "code",
   "execution_count": 88,
   "metadata": {},
   "outputs": [
    {
     "data": {
      "text/html": [
       "<div>\n",
       "<style scoped>\n",
       "    .dataframe tbody tr th:only-of-type {\n",
       "        vertical-align: middle;\n",
       "    }\n",
       "\n",
       "    .dataframe tbody tr th {\n",
       "        vertical-align: top;\n",
       "    }\n",
       "\n",
       "    .dataframe thead th {\n",
       "        text-align: right;\n",
       "    }\n",
       "</style>\n",
       "<table border=\"1\" class=\"dataframe\">\n",
       "  <thead>\n",
       "    <tr style=\"text-align: right;\">\n",
       "      <th></th>\n",
       "      <th>CNPJ</th>\n",
       "      <th>NumCompras</th>\n",
       "    </tr>\n",
       "  </thead>\n",
       "  <tbody>\n",
       "    <tr>\n",
       "      <th>0</th>\n",
       "      <td>17339293000139</td>\n",
       "      <td>141</td>\n",
       "    </tr>\n",
       "    <tr>\n",
       "      <th>1</th>\n",
       "      <td>12434859000198</td>\n",
       "      <td>134</td>\n",
       "    </tr>\n",
       "    <tr>\n",
       "      <th>2</th>\n",
       "      <td>22536813000133</td>\n",
       "      <td>114</td>\n",
       "    </tr>\n",
       "    <tr>\n",
       "      <th>3</th>\n",
       "      <td>29840154000173</td>\n",
       "      <td>72</td>\n",
       "    </tr>\n",
       "    <tr>\n",
       "      <th>4</th>\n",
       "      <td>19068286000175</td>\n",
       "      <td>68</td>\n",
       "    </tr>\n",
       "  </tbody>\n",
       "</table>\n",
       "</div>"
      ],
      "text/plain": [
       "             CNPJ  NumCompras\n",
       "0  17339293000139         141\n",
       "1  12434859000198         134\n",
       "2  22536813000133         114\n",
       "3  29840154000173          72\n",
       "4  19068286000175          68"
      ]
     },
     "execution_count": 88,
     "metadata": {},
     "output_type": "execute_result"
    }
   ],
   "source": [
    "qtyDeCompras.head()"
   ]
  },
  {
   "cell_type": "markdown",
   "metadata": {},
   "source": [
    "#### Percentage of Purchase of each Customer"
   ]
  },
  {
   "cell_type": "code",
   "execution_count": 89,
   "metadata": {},
   "outputs": [],
   "source": [
    "qtyDeCompras['Percentual']=((qtyDeCompras['NumCompras']/TotalNFEmitidas)*100).round(3)"
   ]
  },
  {
   "cell_type": "code",
   "execution_count": 90,
   "metadata": {},
   "outputs": [],
   "source": [
    "qtyDeCompras = qtyDeCompras.sort_values(by=['Percentual'],ascending=False, na_position='first').reset_index(drop=True)"
   ]
  },
  {
   "cell_type": "code",
   "execution_count": 91,
   "metadata": {},
   "outputs": [
    {
     "data": {
      "text/html": [
       "<div>\n",
       "<style scoped>\n",
       "    .dataframe tbody tr th:only-of-type {\n",
       "        vertical-align: middle;\n",
       "    }\n",
       "\n",
       "    .dataframe tbody tr th {\n",
       "        vertical-align: top;\n",
       "    }\n",
       "\n",
       "    .dataframe thead th {\n",
       "        text-align: right;\n",
       "    }\n",
       "</style>\n",
       "<table border=\"1\" class=\"dataframe\">\n",
       "  <thead>\n",
       "    <tr style=\"text-align: right;\">\n",
       "      <th></th>\n",
       "      <th>CNPJ</th>\n",
       "      <th>NumCompras</th>\n",
       "      <th>Percentual</th>\n",
       "    </tr>\n",
       "  </thead>\n",
       "  <tbody>\n",
       "    <tr>\n",
       "      <th>0</th>\n",
       "      <td>17339293000139</td>\n",
       "      <td>141</td>\n",
       "      <td>2.137</td>\n",
       "    </tr>\n",
       "    <tr>\n",
       "      <th>1</th>\n",
       "      <td>12434859000198</td>\n",
       "      <td>134</td>\n",
       "      <td>2.031</td>\n",
       "    </tr>\n",
       "    <tr>\n",
       "      <th>2</th>\n",
       "      <td>22536813000133</td>\n",
       "      <td>114</td>\n",
       "      <td>1.728</td>\n",
       "    </tr>\n",
       "    <tr>\n",
       "      <th>3</th>\n",
       "      <td>29840154000173</td>\n",
       "      <td>72</td>\n",
       "      <td>1.091</td>\n",
       "    </tr>\n",
       "    <tr>\n",
       "      <th>4</th>\n",
       "      <td>19068286000175</td>\n",
       "      <td>68</td>\n",
       "      <td>1.030</td>\n",
       "    </tr>\n",
       "  </tbody>\n",
       "</table>\n",
       "</div>"
      ],
      "text/plain": [
       "             CNPJ  NumCompras  Percentual\n",
       "0  17339293000139         141       2.137\n",
       "1  12434859000198         134       2.031\n",
       "2  22536813000133         114       1.728\n",
       "3  29840154000173          72       1.091\n",
       "4  19068286000175          68       1.030"
      ]
     },
     "execution_count": 91,
     "metadata": {},
     "output_type": "execute_result"
    }
   ],
   "source": [
    "qtyDeCompras.head()"
   ]
  },
  {
   "cell_type": "code",
   "execution_count": 92,
   "metadata": {},
   "outputs": [],
   "source": [
    "# Faz o MERGE dos dois Datasets\n",
    "s1 = pd.merge(compras, qtyDeCompras, how='inner', on=['CNPJ'])"
   ]
  },
  {
   "cell_type": "code",
   "execution_count": 93,
   "metadata": {},
   "outputs": [
    {
     "data": {
      "text/html": [
       "<div>\n",
       "<style scoped>\n",
       "    .dataframe tbody tr th:only-of-type {\n",
       "        vertical-align: middle;\n",
       "    }\n",
       "\n",
       "    .dataframe tbody tr th {\n",
       "        vertical-align: top;\n",
       "    }\n",
       "\n",
       "    .dataframe thead th {\n",
       "        text-align: right;\n",
       "    }\n",
       "</style>\n",
       "<table border=\"1\" class=\"dataframe\">\n",
       "  <thead>\n",
       "    <tr style=\"text-align: right;\">\n",
       "      <th></th>\n",
       "      <th>CNPJ</th>\n",
       "      <th>TotCompras</th>\n",
       "      <th>percenTotal</th>\n",
       "      <th>NumCompras</th>\n",
       "      <th>Percentual</th>\n",
       "    </tr>\n",
       "  </thead>\n",
       "  <tbody>\n",
       "    <tr>\n",
       "      <th>0</th>\n",
       "      <td>12360891000176</td>\n",
       "      <td>474946.97</td>\n",
       "      <td>4.130</td>\n",
       "      <td>26</td>\n",
       "      <td>0.394</td>\n",
       "    </tr>\n",
       "    <tr>\n",
       "      <th>1</th>\n",
       "      <td>15116388000168</td>\n",
       "      <td>367559.08</td>\n",
       "      <td>3.196</td>\n",
       "      <td>23</td>\n",
       "      <td>0.349</td>\n",
       "    </tr>\n",
       "    <tr>\n",
       "      <th>2</th>\n",
       "      <td>12434859000198</td>\n",
       "      <td>350649.19</td>\n",
       "      <td>3.049</td>\n",
       "      <td>134</td>\n",
       "      <td>2.031</td>\n",
       "    </tr>\n",
       "    <tr>\n",
       "      <th>3</th>\n",
       "      <td>29840154000173</td>\n",
       "      <td>298708.56</td>\n",
       "      <td>2.598</td>\n",
       "      <td>72</td>\n",
       "      <td>1.091</td>\n",
       "    </tr>\n",
       "    <tr>\n",
       "      <th>4</th>\n",
       "      <td>19068286000175</td>\n",
       "      <td>281812.84</td>\n",
       "      <td>2.451</td>\n",
       "      <td>68</td>\n",
       "      <td>1.030</td>\n",
       "    </tr>\n",
       "  </tbody>\n",
       "</table>\n",
       "</div>"
      ],
      "text/plain": [
       "             CNPJ  TotCompras  percenTotal  NumCompras  Percentual\n",
       "0  12360891000176   474946.97        4.130          26       0.394\n",
       "1  15116388000168   367559.08        3.196          23       0.349\n",
       "2  12434859000198   350649.19        3.049         134       2.031\n",
       "3  29840154000173   298708.56        2.598          72       1.091\n",
       "4  19068286000175   281812.84        2.451          68       1.030"
      ]
     },
     "execution_count": 93,
     "metadata": {},
     "output_type": "execute_result"
    }
   ],
   "source": [
    "s1.head()"
   ]
  },
  {
   "cell_type": "code",
   "execution_count": 99,
   "metadata": {},
   "outputs": [],
   "source": [
    "s1.to_csv('C:/Mettricx/Projetos/SFoods/dataset/SFoods_Clientes_Classificacao.csv', encoding='utf-8', index=False,  float_format='%.3f')"
   ]
  },
  {
   "cell_type": "code",
   "execution_count": 95,
   "metadata": {},
   "outputs": [
    {
     "data": {
      "text/plain": [
       "11498904.419999992"
      ]
     },
     "execution_count": 95,
     "metadata": {},
     "output_type": "execute_result"
    }
   ],
   "source": [
    "s1['TotCompras'].sum()"
   ]
  },
  {
   "cell_type": "code",
   "execution_count": 96,
   "metadata": {},
   "outputs": [],
   "source": [
    "s1 = s1.sort_values(by=['percenTotal'],ascending=False, na_position='first').reset_index(drop=True)"
   ]
  },
  {
   "cell_type": "code",
   "execution_count": 98,
   "metadata": {},
   "outputs": [
    {
     "data": {
      "image/png": "[encoded data removed]",
      "text/plain": [
       "<Figure size 432x288 with 1 Axes>"
      ]
     },
     "metadata": {},
     "output_type": "display_data"
    }
   ],
   "source": [
    "import matplotlib.pyplot as plt\n",
    "plt.plot(s1.percenTotal, s1.Percentual, 'ro')\n",
    "plt.axis([0, 1, 0, 1])\n",
    "plt.xlabel('% Num. Compras')\n",
    "plt.ylabel('% Tot. Fturamento')\n",
    "\n",
    "plt.show()"
   ]
  },
  {
   "cell_type": "markdown",
   "metadata": {},
   "source": [
    "#### Clientes Top (> 1% do Faturamento)"
   ]
  },
  {
   "cell_type": "code",
   "execution_count": 79,
   "metadata": {},
   "outputs": [],
   "source": [
    "#ClientesTop = s1[['CNPJ','TotCompras','percenTotal','NumCompras','Percentual']]\n",
    "clientesTop = s1[s1['percenTotal'] >= 1][['CNPJ','TotCompras','percenTotal','NumCompras','Percentual']]"
   ]
  },
  {
   "cell_type": "code",
   "execution_count": 102,
   "metadata": {},
   "outputs": [
    {
     "data": {
      "text/html": [
       "<div>\n",
       "<style scoped>\n",
       "    .dataframe tbody tr th:only-of-type {\n",
       "        vertical-align: middle;\n",
       "    }\n",
       "\n",
       "    .dataframe tbody tr th {\n",
       "        vertical-align: top;\n",
       "    }\n",
       "\n",
       "    .dataframe thead th {\n",
       "        text-align: right;\n",
       "    }\n",
       "</style>\n",
       "<table border=\"1\" class=\"dataframe\">\n",
       "  <thead>\n",
       "    <tr style=\"text-align: right;\">\n",
       "      <th></th>\n",
       "      <th>CNPJ</th>\n",
       "      <th>TotCompras</th>\n",
       "      <th>percenTotal</th>\n",
       "      <th>NumCompras</th>\n",
       "      <th>Percentual</th>\n",
       "    </tr>\n",
       "  </thead>\n",
       "  <tbody>\n",
       "    <tr>\n",
       "      <th>0</th>\n",
       "      <td>12360891000176</td>\n",
       "      <td>474946.97</td>\n",
       "      <td>4.067</td>\n",
       "      <td>26</td>\n",
       "      <td>0.392</td>\n",
       "    </tr>\n",
       "    <tr>\n",
       "      <th>1</th>\n",
       "      <td>15116388000168</td>\n",
       "      <td>367559.08</td>\n",
       "      <td>3.148</td>\n",
       "      <td>23</td>\n",
       "      <td>0.347</td>\n",
       "    </tr>\n",
       "    <tr>\n",
       "      <th>2</th>\n",
       "      <td>12434859000198</td>\n",
       "      <td>362693.84</td>\n",
       "      <td>3.106</td>\n",
       "      <td>136</td>\n",
       "      <td>2.052</td>\n",
       "    </tr>\n",
       "    <tr>\n",
       "      <th>3</th>\n",
       "      <td>29840154000173</td>\n",
       "      <td>300708.01</td>\n",
       "      <td>2.575</td>\n",
       "      <td>72</td>\n",
       "      <td>1.086</td>\n",
       "    </tr>\n",
       "    <tr>\n",
       "      <th>4</th>\n",
       "      <td>19068286000175</td>\n",
       "      <td>287622.97</td>\n",
       "      <td>2.463</td>\n",
       "      <td>69</td>\n",
       "      <td>1.041</td>\n",
       "    </tr>\n",
       "  </tbody>\n",
       "</table>\n",
       "</div>"
      ],
      "text/plain": [
       "             CNPJ  TotCompras  percenTotal  NumCompras  Percentual\n",
       "0  12360891000176   474946.97        4.067          26       0.392\n",
       "1  15116388000168   367559.08        3.148          23       0.347\n",
       "2  12434859000198   362693.84        3.106         136       2.052\n",
       "3  29840154000173   300708.01        2.575          72       1.086\n",
       "4  19068286000175   287622.97        2.463          69       1.041"
      ]
     },
     "execution_count": 102,
     "metadata": {},
     "output_type": "execute_result"
    }
   ],
   "source": [
    "clientesTop.head()"
   ]
  },
  {
   "cell_type": "code",
   "execution_count": 101,
   "metadata": {},
   "outputs": [
    {
     "data": {
      "image/png": "[encoded data removed]",
      "text/plain": [
       "<matplotlib.figure.Figure at 0x1d0dda178d0>"
      ]
     },
     "metadata": {},
     "output_type": "display_data"
    }
   ],
   "source": [
    "import matplotlib.pyplot as plt\n",
    "plt.plot(clientesTop.percenTotal, clientesTop.Percentual, 'ro')\n",
    "plt.axis([1, 4.2, 0, 2.5])\n",
    "\n",
    "plt.show()"
   ]
  },
  {
   "cell_type": "markdown",
   "metadata": {
    "collapsed": true
   },
   "source": [
    "#### Customers purchasing per month"
   ]
  },
  {
   "cell_type": "code",
   "execution_count": 101,
   "metadata": {},
   "outputs": [],
   "source": [
    "dados = df[['data','NF']].groupby(['data','NF']).size().reset_index(name='Produtos')"
   ]
  },
  {
   "cell_type": "code",
   "execution_count": 102,
   "metadata": {},
   "outputs": [],
   "source": [
    "dados = df[['data','CNPJ']].groupby(['data','CNPJ']).size().reset_index(name='Produtos')"
   ]
  },
  {
   "cell_type": "code",
   "execution_count": 103,
   "metadata": {},
   "outputs": [],
   "source": [
    "#dados = df.groupby([df['data'].str[0:7],df['CNPJ']]).size()\n",
    "dados = df.groupby('data').agg({'CNPJ': \"count\"}).reset_index()   "
   ]
  },
  {
   "cell_type": "code",
   "execution_count": 104,
   "metadata": {},
   "outputs": [],
   "source": [
    "dados = df.groupby('data').agg({'CNPJ': \"count\"}).reset_index()   "
   ]
  },
  {
   "cell_type": "code",
   "execution_count": 105,
   "metadata": {},
   "outputs": [],
   "source": [
    "dados = df[['data','CNPJ']]"
   ]
  },
  {
   "cell_type": "code",
   "execution_count": 106,
   "metadata": {},
   "outputs": [],
   "source": [
    "dados = dados.drop_duplicates().reset_index(drop=True)   "
   ]
  },
  {
   "cell_type": "code",
   "execution_count": 107,
   "metadata": {},
   "outputs": [],
   "source": [
    "dados['data'] = dados['data'].str[0:7]"
   ]
  },
  {
   "cell_type": "code",
   "execution_count": 108,
   "metadata": {},
   "outputs": [
    {
     "data": {
      "text/html": [
       "<div>\n",
       "<style scoped>\n",
       "    .dataframe tbody tr th:only-of-type {\n",
       "        vertical-align: middle;\n",
       "    }\n",
       "\n",
       "    .dataframe tbody tr th {\n",
       "        vertical-align: top;\n",
       "    }\n",
       "\n",
       "    .dataframe thead th {\n",
       "        text-align: right;\n",
       "    }\n",
       "</style>\n",
       "<table border=\"1\" class=\"dataframe\">\n",
       "  <thead>\n",
       "    <tr style=\"text-align: right;\">\n",
       "      <th></th>\n",
       "      <th>data</th>\n",
       "      <th>CNPJ</th>\n",
       "    </tr>\n",
       "  </thead>\n",
       "  <tbody>\n",
       "    <tr>\n",
       "      <th>0</th>\n",
       "      <td>2014-08</td>\n",
       "      <td>27833615002018</td>\n",
       "    </tr>\n",
       "    <tr>\n",
       "      <th>1</th>\n",
       "      <td>2014-10</td>\n",
       "      <td>09642314000162</td>\n",
       "    </tr>\n",
       "    <tr>\n",
       "      <th>2</th>\n",
       "      <td>2014-10</td>\n",
       "      <td>20815576000114</td>\n",
       "    </tr>\n",
       "    <tr>\n",
       "      <th>3</th>\n",
       "      <td>2014-10</td>\n",
       "      <td>05054332000172</td>\n",
       "    </tr>\n",
       "    <tr>\n",
       "      <th>4</th>\n",
       "      <td>2014-10</td>\n",
       "      <td>09653290000147</td>\n",
       "    </tr>\n",
       "  </tbody>\n",
       "</table>\n",
       "</div>"
      ],
      "text/plain": [
       "      data            CNPJ\n",
       "0  2014-08  27833615002018\n",
       "1  2014-10  09642314000162\n",
       "2  2014-10  20815576000114\n",
       "3  2014-10  05054332000172\n",
       "4  2014-10  09653290000147"
      ]
     },
     "execution_count": 108,
     "metadata": {},
     "output_type": "execute_result"
    }
   ],
   "source": [
    "dados.head()"
   ]
  },
  {
   "cell_type": "markdown",
   "metadata": {},
   "source": [
    "#### Grouping total Customer per month"
   ]
  },
  {
   "cell_type": "code",
   "execution_count": 112,
   "metadata": {},
   "outputs": [],
   "source": [
    "dados1 = dados.groupby('data').agg({'CNPJ': \"count\"}).reset_index()  "
   ]
  },
  {
   "cell_type": "markdown",
   "metadata": {},
   "source": [
    "#### Converting the column to Date pattern"
   ]
  },
  {
   "cell_type": "code",
   "execution_count": 113,
   "metadata": {},
   "outputs": [],
   "source": [
    "dados1['data'] = pd.to_datetime(dados1['data'], format='%Y-%m'  )"
   ]
  },
  {
   "cell_type": "code",
   "execution_count": 114,
   "metadata": {},
   "outputs": [],
   "source": [
    "dados1.set_index('data', inplace=True)"
   ]
  },
  {
   "cell_type": "code",
   "execution_count": 115,
   "metadata": {},
   "outputs": [
    {
     "data": {
      "text/html": [
       "<div>\n",
       "<style scoped>\n",
       "    .dataframe tbody tr th:only-of-type {\n",
       "        vertical-align: middle;\n",
       "    }\n",
       "\n",
       "    .dataframe tbody tr th {\n",
       "        vertical-align: top;\n",
       "    }\n",
       "\n",
       "    .dataframe thead th {\n",
       "        text-align: right;\n",
       "    }\n",
       "</style>\n",
       "<table border=\"1\" class=\"dataframe\">\n",
       "  <thead>\n",
       "    <tr style=\"text-align: right;\">\n",
       "      <th></th>\n",
       "      <th>CNPJ</th>\n",
       "    </tr>\n",
       "    <tr>\n",
       "      <th>data</th>\n",
       "      <th></th>\n",
       "    </tr>\n",
       "  </thead>\n",
       "  <tbody>\n",
       "    <tr>\n",
       "      <th>2014-08-01</th>\n",
       "      <td>2</td>\n",
       "    </tr>\n",
       "    <tr>\n",
       "      <th>2014-09-01</th>\n",
       "      <td>18</td>\n",
       "    </tr>\n",
       "    <tr>\n",
       "      <th>2014-10-01</th>\n",
       "      <td>91</td>\n",
       "    </tr>\n",
       "    <tr>\n",
       "      <th>2014-11-01</th>\n",
       "      <td>93</td>\n",
       "    </tr>\n",
       "    <tr>\n",
       "      <th>2014-12-01</th>\n",
       "      <td>97</td>\n",
       "    </tr>\n",
       "  </tbody>\n",
       "</table>\n",
       "</div>"
      ],
      "text/plain": [
       "            CNPJ\n",
       "data            \n",
       "2014-08-01     2\n",
       "2014-09-01    18\n",
       "2014-10-01    91\n",
       "2014-11-01    93\n",
       "2014-12-01    97"
      ]
     },
     "execution_count": 115,
     "metadata": {},
     "output_type": "execute_result"
    }
   ],
   "source": [
    "dados1.head()"
   ]
  },
  {
   "cell_type": "markdown",
   "metadata": {},
   "source": [
    "#### Defines the evolution of the number of customers per month"
   ]
  },
  {
   "cell_type": "code",
   "execution_count": 116,
   "metadata": {},
   "outputs": [
    {
     "data": {
      "text/plain": [
       "Text(0,0.5,'Num. Clientes')"
      ]
     },
     "execution_count": 116,
     "metadata": {},
     "output_type": "execute_result"
    },
    {
     "data": {
      "image/png": "[encoded data removed]",
      "text/plain": [
       "<Figure size 2160x720 with 1 Axes>"
      ]
     },
     "metadata": {},
     "output_type": "display_data"
    }
   ],
   "source": [
    "dados1.plot(figsize=(30,10), linewidth=5, fontsize=30)\n",
    "plt.xlabel('Ano', fontsize=30)\n",
    "plt.ylabel('Num. Clientes', fontsize=30)"
   ]
  },
  {
   "cell_type": "code",
   "execution_count": 177,
   "metadata": {},
   "outputs": [],
   "source": [
    "# Convertendo de Série p/ dataframe\n",
    "#d = dados.to_frame().reset_index()\n"
   ]
  },
  {
   "cell_type": "code",
   "execution_count": null,
   "metadata": {
    "collapsed": true
   },
   "outputs": [],
   "source": [
    "# Número de Clientes por Mês\n",
    "numClientes = d.groupby('data').size()\n",
    "numClientes.head()"
   ]
  },
  {
   "cell_type": "code",
   "execution_count": null,
   "metadata": {
    "collapsed": true
   },
   "outputs": [],
   "source": [
    "# Número médio de Clientes\n",
    "a=(numClientes.mean())"
   ]
  },
  {
   "cell_type": "code",
   "execution_count": null,
   "metadata": {
    "collapsed": true
   },
   "outputs": [],
   "source": [
    "int(a)"
   ]
  },
  {
   "cell_type": "code",
   "execution_count": null,
   "metadata": {
    "collapsed": true
   },
   "outputs": [],
   "source": [
    "numC = numClientes.plot( x=numClientes, stacked=True, kind='bar', figsize=(20,7), rot=90, legend=False, facecolor='#AA0000')\n",
    "\n",
    "numC.set_xlabel('Mês')\n",
    "numC.set_ylabel('Número de Clientes')\n",
    "numC.set_title('Clientes Ativos')\n",
    "numC.axhline( y=a, color='g', linestyle='--', lw=2, label='Valor Médio')"
   ]
  },
  {
   "cell_type": "code",
   "execution_count": null,
   "metadata": {
    "collapsed": true
   },
   "outputs": [],
   "source": []
  }
 ],
 "metadata": {
  "kernelspec": {
   "display_name": "Python 3",
   "language": "python",
   "name": "python3"
  },
  "language_info": {
   "codemirror_mode": {
    "name": "ipython",
    "version": 3
   },
   "file_extension": ".py",
   "mimetype": "text/x-python",
   "name": "python",
   "nbconvert_exporter": "python",
   "pygments_lexer": "ipython3",
   "version": "3.6.5"
  }
 },
 "nbformat": 4,
 "nbformat_minor": 1
}
