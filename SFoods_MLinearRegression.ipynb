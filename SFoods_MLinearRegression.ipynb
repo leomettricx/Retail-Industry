{
 "cells": [
  {
   "cell_type": "markdown",
   "metadata": {},
   "source": [
    "\n",
    "This model analyzes the influence of the growth of the variety of marketed products \n",
    "and the number of clients served in the Company Billing. \n",
    "Does one of them contribute, in the billing, more than the other? \n",
    "what could be a better policy, more customers or more products?\n",
    "    "
   ]
  },
  {
   "cell_type": "markdown",
   "metadata": {},
   "source": [
    "\n",
    "It will be processed a set of 7000 invoice issued between 2014 and 2018\n",
    "Each invoice has :\n",
    "CustomerName\n",
    "CustomeCode\n",
    "Date\n",
    "CustomerAdres\n",
    "ProductCod, ProductName, UnitOfMeasurement\n",
    "Price\n",
    "        "
   ]
  },
  {
   "cell_type": "code",
   "execution_count": 1,
   "metadata": {},
   "outputs": [],
   "source": [
    "import pandas as pd\n",
    "import numpy as np\n",
    "import matplotlib.pyplot as plt\n",
    "import seaborn as sns\n",
    "from random import randint\n",
    "import math\n",
    "#%matplotlib inline\n",
    "#%matplotlib notebook"
   ]
  },
  {
   "cell_type": "code",
   "execution_count": 2,
   "metadata": {},
   "outputs": [],
   "source": [
    "df = pd.read_csv('C:/Mettricx/Projetos/SFoods/DataSet/NFe-SupraS.csv', dtype={'cod': object, 'NF': object, 'CNPJ': object})"
   ]
  },
  {
   "cell_type": "code",
   "execution_count": 3,
   "metadata": {},
   "outputs": [
    {
     "data": {
      "text/html": [
       "<div>\n",
       "<style scoped>\n",
       "    .dataframe tbody tr th:only-of-type {\n",
       "        vertical-align: middle;\n",
       "    }\n",
       "\n",
       "    .dataframe tbody tr th {\n",
       "        vertical-align: top;\n",
       "    }\n",
       "\n",
       "    .dataframe thead th {\n",
       "        text-align: right;\n",
       "    }\n",
       "</style>\n",
       "<table border=\"1\" class=\"dataframe\">\n",
       "  <thead>\n",
       "    <tr style=\"text-align: right;\">\n",
       "      <th></th>\n",
       "      <th>cliente</th>\n",
       "      <th>NF</th>\n",
       "      <th>data</th>\n",
       "      <th>CNPJ</th>\n",
       "      <th>cidade</th>\n",
       "      <th>bairro</th>\n",
       "      <th>UF</th>\n",
       "      <th>cod</th>\n",
       "      <th>QTY</th>\n",
       "      <th>preco</th>\n",
       "      <th>descricao</th>\n",
       "      <th>Familia</th>\n",
       "      <th>unidade</th>\n",
       "    </tr>\n",
       "  </thead>\n",
       "  <tbody>\n",
       "    <tr>\n",
       "      <th>0</th>\n",
       "      <td>NF-E EMITIDA EM AMBIENTE DE HOMOLOGACAO - SEM ...</td>\n",
       "      <td>4</td>\n",
       "      <td>2014-08-29</td>\n",
       "      <td>27833615002018</td>\n",
       "      <td>RIO DE JANEIRO</td>\n",
       "      <td>CASIMIRO DE ABREU</td>\n",
       "      <td>RJ</td>\n",
       "      <td>020002</td>\n",
       "      <td>1</td>\n",
       "      <td>2.77</td>\n",
       "      <td>ALHO E CEBOLA  PICADINHO S/SAL  180GR</td>\n",
       "      <td>Temperos</td>\n",
       "      <td>UN</td>\n",
       "    </tr>\n",
       "    <tr>\n",
       "      <th>1</th>\n",
       "      <td>TOP GREEN FRUIT HORTIFRUITGRANJEIROS LTDA</td>\n",
       "      <td>1275</td>\n",
       "      <td>2014-10-04</td>\n",
       "      <td>09642314000162</td>\n",
       "      <td>ARARUAMA</td>\n",
       "      <td>CENTRO</td>\n",
       "      <td>RJ</td>\n",
       "      <td>020002</td>\n",
       "      <td>24</td>\n",
       "      <td>66.48</td>\n",
       "      <td>ALHO E CEBOLA  PICADINHO S/SAL  180GR</td>\n",
       "      <td>Temperos</td>\n",
       "      <td>UN</td>\n",
       "    </tr>\n",
       "    <tr>\n",
       "      <th>2</th>\n",
       "      <td>M L ZIELINSKI LANCHONETE E CONVENIENCIA</td>\n",
       "      <td>1285</td>\n",
       "      <td>2014-10-09</td>\n",
       "      <td>20815576000114</td>\n",
       "      <td>MACAE</td>\n",
       "      <td>SOL E MAR</td>\n",
       "      <td>RJ</td>\n",
       "      <td>020002</td>\n",
       "      <td>2</td>\n",
       "      <td>5.54</td>\n",
       "      <td>ALHO E CEBOLA  PICADINHO S/SAL  180GR</td>\n",
       "      <td>Temperos</td>\n",
       "      <td>UN</td>\n",
       "    </tr>\n",
       "    <tr>\n",
       "      <th>3</th>\n",
       "      <td>NOVA ESPERANCA DE ARARUAMA LTDA EPP</td>\n",
       "      <td>1294</td>\n",
       "      <td>2014-10-14</td>\n",
       "      <td>05054332000172</td>\n",
       "      <td>ARARUAMA</td>\n",
       "      <td>MATARUNA</td>\n",
       "      <td>RJ</td>\n",
       "      <td>020002</td>\n",
       "      <td>18</td>\n",
       "      <td>49.86</td>\n",
       "      <td>ALHO E CEBOLA  PICADINHO S/SAL  180GR</td>\n",
       "      <td>Temperos</td>\n",
       "      <td>UN</td>\n",
       "    </tr>\n",
       "    <tr>\n",
       "      <th>4</th>\n",
       "      <td>SUPERMERCADO SAO JUDAS TADEU LTDA</td>\n",
       "      <td>1296</td>\n",
       "      <td>2014-10-14</td>\n",
       "      <td>09653290000147</td>\n",
       "      <td>SAQUAREMA</td>\n",
       "      <td>BACAXA</td>\n",
       "      <td>RJ</td>\n",
       "      <td>020002</td>\n",
       "      <td>12</td>\n",
       "      <td>33.24</td>\n",
       "      <td>ALHO E CEBOLA  PICADINHO S/SAL  180GR</td>\n",
       "      <td>Temperos</td>\n",
       "      <td>UN</td>\n",
       "    </tr>\n",
       "  </tbody>\n",
       "</table>\n",
       "</div>"
      ],
      "text/plain": [
       "                                             cliente    NF        data  \\\n",
       "0  NF-E EMITIDA EM AMBIENTE DE HOMOLOGACAO - SEM ...     4  2014-08-29   \n",
       "1          TOP GREEN FRUIT HORTIFRUITGRANJEIROS LTDA  1275  2014-10-04   \n",
       "2            M L ZIELINSKI LANCHONETE E CONVENIENCIA  1285  2014-10-09   \n",
       "3                NOVA ESPERANCA DE ARARUAMA LTDA EPP  1294  2014-10-14   \n",
       "4                  SUPERMERCADO SAO JUDAS TADEU LTDA  1296  2014-10-14   \n",
       "\n",
       "             CNPJ          cidade             bairro  UF     cod  QTY  preco  \\\n",
       "0  27833615002018  RIO DE JANEIRO  CASIMIRO DE ABREU  RJ  020002    1   2.77   \n",
       "1  09642314000162        ARARUAMA             CENTRO  RJ  020002   24  66.48   \n",
       "2  20815576000114           MACAE          SOL E MAR  RJ  020002    2   5.54   \n",
       "3  05054332000172        ARARUAMA           MATARUNA  RJ  020002   18  49.86   \n",
       "4  09653290000147       SAQUAREMA             BACAXA  RJ  020002   12  33.24   \n",
       "\n",
       "                               descricao   Familia unidade  \n",
       "0  ALHO E CEBOLA  PICADINHO S/SAL  180GR  Temperos      UN  \n",
       "1  ALHO E CEBOLA  PICADINHO S/SAL  180GR  Temperos      UN  \n",
       "2  ALHO E CEBOLA  PICADINHO S/SAL  180GR  Temperos      UN  \n",
       "3  ALHO E CEBOLA  PICADINHO S/SAL  180GR  Temperos      UN  \n",
       "4  ALHO E CEBOLA  PICADINHO S/SAL  180GR  Temperos      UN  "
      ]
     },
     "execution_count": 3,
     "metadata": {},
     "output_type": "execute_result"
    }
   ],
   "source": [
    "df.head()"
   ]
  },
  {
   "cell_type": "markdown",
   "metadata": {},
   "source": [
    "#### Number of lines in the DataSet"
   ]
  },
  {
   "cell_type": "code",
   "execution_count": 4,
   "metadata": {},
   "outputs": [
    {
     "data": {
      "text/plain": [
       "160606"
      ]
     },
     "execution_count": 4,
     "metadata": {},
     "output_type": "execute_result"
    }
   ],
   "source": [
    "len(df)"
   ]
  },
  {
   "cell_type": "markdown",
   "metadata": {},
   "source": [
    "#### Sales per month"
   ]
  },
  {
   "cell_type": "code",
   "execution_count": 5,
   "metadata": {},
   "outputs": [],
   "source": [
    "Vendas = df[['data','preco']].groupby(df['data'].str[0:7]).sum().reset_index()"
   ]
  },
  {
   "cell_type": "code",
   "execution_count": 6,
   "metadata": {},
   "outputs": [],
   "source": [
    "Vendas = Vendas.rename(columns={'preco':'Total_Vendas'})"
   ]
  },
  {
   "cell_type": "code",
   "execution_count": 7,
   "metadata": {},
   "outputs": [
    {
     "data": {
      "text/html": [
       "<div>\n",
       "<style scoped>\n",
       "    .dataframe tbody tr th:only-of-type {\n",
       "        vertical-align: middle;\n",
       "    }\n",
       "\n",
       "    .dataframe tbody tr th {\n",
       "        vertical-align: top;\n",
       "    }\n",
       "\n",
       "    .dataframe thead th {\n",
       "        text-align: right;\n",
       "    }\n",
       "</style>\n",
       "<table border=\"1\" class=\"dataframe\">\n",
       "  <thead>\n",
       "    <tr style=\"text-align: right;\">\n",
       "      <th></th>\n",
       "      <th>data</th>\n",
       "      <th>Total_Vendas</th>\n",
       "    </tr>\n",
       "  </thead>\n",
       "  <tbody>\n",
       "    <tr>\n",
       "      <th>0</th>\n",
       "      <td>2014-08</td>\n",
       "      <td>25.15</td>\n",
       "    </tr>\n",
       "    <tr>\n",
       "      <th>1</th>\n",
       "      <td>2014-09</td>\n",
       "      <td>30112.97</td>\n",
       "    </tr>\n",
       "    <tr>\n",
       "      <th>2</th>\n",
       "      <td>2014-10</td>\n",
       "      <td>163876.63</td>\n",
       "    </tr>\n",
       "    <tr>\n",
       "      <th>3</th>\n",
       "      <td>2014-11</td>\n",
       "      <td>198276.21</td>\n",
       "    </tr>\n",
       "    <tr>\n",
       "      <th>4</th>\n",
       "      <td>2014-12</td>\n",
       "      <td>259088.05</td>\n",
       "    </tr>\n",
       "  </tbody>\n",
       "</table>\n",
       "</div>"
      ],
      "text/plain": [
       "      data  Total_Vendas\n",
       "0  2014-08         25.15\n",
       "1  2014-09      30112.97\n",
       "2  2014-10     163876.63\n",
       "3  2014-11     198276.21\n",
       "4  2014-12     259088.05"
      ]
     },
     "execution_count": 7,
     "metadata": {},
     "output_type": "execute_result"
    }
   ],
   "source": [
    "Vendas.head()"
   ]
  },
  {
   "cell_type": "markdown",
   "metadata": {},
   "source": [
    "#### Products sold per month"
   ]
  },
  {
   "cell_type": "code",
   "execution_count": 8,
   "metadata": {},
   "outputs": [],
   "source": [
    "produtos = df[['data', 'cod']] "
   ]
  },
  {
   "cell_type": "code",
   "execution_count": 9,
   "metadata": {},
   "outputs": [
    {
     "name": "stderr",
     "output_type": "stream",
     "text": [
      "C:\\Users\\leona\\Anaconda3\\lib\\site-packages\\ipykernel_launcher.py:1: SettingWithCopyWarning: \n",
      "A value is trying to be set on a copy of a slice from a DataFrame.\n",
      "Try using .loc[row_indexer,col_indexer] = value instead\n",
      "\n",
      "See the caveats in the documentation: http://pandas.pydata.org/pandas-docs/stable/indexing.html#indexing-view-versus-copy\n",
      "  \"\"\"Entry point for launching an IPython kernel.\n"
     ]
    }
   ],
   "source": [
    "produtos['mes'] = produtos['data'].str[0:7]"
   ]
  },
  {
   "cell_type": "code",
   "execution_count": 10,
   "metadata": {},
   "outputs": [],
   "source": [
    "produtos = produtos.sort_values(by=['mes','cod'],ascending=True, na_position='first').reset_index(drop=True)"
   ]
  },
  {
   "cell_type": "code",
   "execution_count": 11,
   "metadata": {},
   "outputs": [],
   "source": [
    "produtos = produtos.drop('data', 1)"
   ]
  },
  {
   "cell_type": "code",
   "execution_count": 12,
   "metadata": {},
   "outputs": [],
   "source": [
    "produtos = produtos.drop_duplicates().reset_index(drop=True) "
   ]
  },
  {
   "cell_type": "code",
   "execution_count": 13,
   "metadata": {},
   "outputs": [
    {
     "data": {
      "text/html": [
       "<div>\n",
       "<style scoped>\n",
       "    .dataframe tbody tr th:only-of-type {\n",
       "        vertical-align: middle;\n",
       "    }\n",
       "\n",
       "    .dataframe tbody tr th {\n",
       "        vertical-align: top;\n",
       "    }\n",
       "\n",
       "    .dataframe thead th {\n",
       "        text-align: right;\n",
       "    }\n",
       "</style>\n",
       "<table border=\"1\" class=\"dataframe\">\n",
       "  <thead>\n",
       "    <tr style=\"text-align: right;\">\n",
       "      <th></th>\n",
       "      <th>cod</th>\n",
       "      <th>mes</th>\n",
       "    </tr>\n",
       "  </thead>\n",
       "  <tbody>\n",
       "    <tr>\n",
       "      <th>0</th>\n",
       "      <td>010001</td>\n",
       "      <td>2014-08</td>\n",
       "    </tr>\n",
       "    <tr>\n",
       "      <th>1</th>\n",
       "      <td>010002</td>\n",
       "      <td>2014-08</td>\n",
       "    </tr>\n",
       "    <tr>\n",
       "      <th>2</th>\n",
       "      <td>010006</td>\n",
       "      <td>2014-08</td>\n",
       "    </tr>\n",
       "    <tr>\n",
       "      <th>3</th>\n",
       "      <td>010007</td>\n",
       "      <td>2014-08</td>\n",
       "    </tr>\n",
       "    <tr>\n",
       "      <th>4</th>\n",
       "      <td>010009</td>\n",
       "      <td>2014-08</td>\n",
       "    </tr>\n",
       "  </tbody>\n",
       "</table>\n",
       "</div>"
      ],
      "text/plain": [
       "      cod      mes\n",
       "0  010001  2014-08\n",
       "1  010002  2014-08\n",
       "2  010006  2014-08\n",
       "3  010007  2014-08\n",
       "4  010009  2014-08"
      ]
     },
     "execution_count": 13,
     "metadata": {},
     "output_type": "execute_result"
    }
   ],
   "source": [
    "produtos.head()"
   ]
  },
  {
   "cell_type": "code",
   "execution_count": 14,
   "metadata": {},
   "outputs": [],
   "source": [
    "Num_Produtos = produtos[['cod']].groupby(produtos['mes']).count().reset_index(drop=False)"
   ]
  },
  {
   "cell_type": "code",
   "execution_count": 15,
   "metadata": {},
   "outputs": [],
   "source": [
    "Num_Produtos = Num_Produtos.rename(columns={'cod': 'NumProdutos'})"
   ]
  },
  {
   "cell_type": "markdown",
   "metadata": {},
   "source": [
    "#### Determines for each month the number of distinct products being marketed"
   ]
  },
  {
   "cell_type": "code",
   "execution_count": 16,
   "metadata": {},
   "outputs": [
    {
     "data": {
      "text/html": [
       "<div>\n",
       "<style scoped>\n",
       "    .dataframe tbody tr th:only-of-type {\n",
       "        vertical-align: middle;\n",
       "    }\n",
       "\n",
       "    .dataframe tbody tr th {\n",
       "        vertical-align: top;\n",
       "    }\n",
       "\n",
       "    .dataframe thead th {\n",
       "        text-align: right;\n",
       "    }\n",
       "</style>\n",
       "<table border=\"1\" class=\"dataframe\">\n",
       "  <thead>\n",
       "    <tr style=\"text-align: right;\">\n",
       "      <th></th>\n",
       "      <th>mes</th>\n",
       "      <th>NumProdutos</th>\n",
       "    </tr>\n",
       "  </thead>\n",
       "  <tbody>\n",
       "    <tr>\n",
       "      <th>0</th>\n",
       "      <td>2014-08</td>\n",
       "      <td>8</td>\n",
       "    </tr>\n",
       "    <tr>\n",
       "      <th>1</th>\n",
       "      <td>2014-09</td>\n",
       "      <td>165</td>\n",
       "    </tr>\n",
       "    <tr>\n",
       "      <th>2</th>\n",
       "      <td>2014-10</td>\n",
       "      <td>213</td>\n",
       "    </tr>\n",
       "    <tr>\n",
       "      <th>3</th>\n",
       "      <td>2014-11</td>\n",
       "      <td>221</td>\n",
       "    </tr>\n",
       "    <tr>\n",
       "      <th>4</th>\n",
       "      <td>2014-12</td>\n",
       "      <td>216</td>\n",
       "    </tr>\n",
       "  </tbody>\n",
       "</table>\n",
       "</div>"
      ],
      "text/plain": [
       "       mes  NumProdutos\n",
       "0  2014-08            8\n",
       "1  2014-09          165\n",
       "2  2014-10          213\n",
       "3  2014-11          221\n",
       "4  2014-12          216"
      ]
     },
     "execution_count": 16,
     "metadata": {},
     "output_type": "execute_result"
    }
   ],
   "source": [
    "Num_Produtos.head()"
   ]
  },
  {
   "cell_type": "code",
   "execution_count": 17,
   "metadata": {},
   "outputs": [],
   "source": [
    "Num_Produtos['mes1'] = pd.to_datetime(Num_Produtos['mes'], format='%Y-%m'  )"
   ]
  },
  {
   "cell_type": "code",
   "execution_count": 18,
   "metadata": {},
   "outputs": [
    {
     "data": {
      "text/plain": [
       "Text(0,0.5,'Num Produtos')"
      ]
     },
     "execution_count": 18,
     "metadata": {},
     "output_type": "execute_result"
    },
    {
     "data": {
      "image/png": "[encoded data removed]",
      "text/plain": [
       "<Figure size 720x360 with 1 Axes>"
      ]
     },
     "metadata": {
      "needs_background": "light"
     },
     "output_type": "display_data"
    }
   ],
   "source": [
    "Num_Produtos.plot(x='mes1', y='NumProdutos',figsize=(10,5), linewidth=2, fontsize=10)\n",
    "plt.xlabel('Ano', fontsize=10)\n",
    "plt.ylabel('Num Produtos', fontsize=10)"
   ]
  },
  {
   "cell_type": "markdown",
   "metadata": {},
   "source": [
    "#### Number of Clients Served in the Month"
   ]
  },
  {
   "cell_type": "code",
   "execution_count": 19,
   "metadata": {},
   "outputs": [],
   "source": [
    "dados = df[['data', 'CNPJ']]"
   ]
  },
  {
   "cell_type": "code",
   "execution_count": 20,
   "metadata": {},
   "outputs": [],
   "source": [
    "dados = dados.sort_values(by=['data','CNPJ'],ascending=True, na_position='first').reset_index(drop=True)"
   ]
  },
  {
   "cell_type": "code",
   "execution_count": 21,
   "metadata": {},
   "outputs": [],
   "source": [
    "dados = dados.drop_duplicates().reset_index(drop=True)"
   ]
  },
  {
   "cell_type": "code",
   "execution_count": 22,
   "metadata": {},
   "outputs": [],
   "source": [
    "Num_Cliente = dados[['CNPJ']].groupby(dados['data'].str[0:7]).count().reset_index(drop=False)\n"
   ]
  },
  {
   "cell_type": "code",
   "execution_count": 23,
   "metadata": {},
   "outputs": [
    {
     "data": {
      "text/html": [
       "<div>\n",
       "<style scoped>\n",
       "    .dataframe tbody tr th:only-of-type {\n",
       "        vertical-align: middle;\n",
       "    }\n",
       "\n",
       "    .dataframe tbody tr th {\n",
       "        vertical-align: top;\n",
       "    }\n",
       "\n",
       "    .dataframe thead th {\n",
       "        text-align: right;\n",
       "    }\n",
       "</style>\n",
       "<table border=\"1\" class=\"dataframe\">\n",
       "  <thead>\n",
       "    <tr style=\"text-align: right;\">\n",
       "      <th></th>\n",
       "      <th>data</th>\n",
       "      <th>CNPJ</th>\n",
       "    </tr>\n",
       "  </thead>\n",
       "  <tbody>\n",
       "    <tr>\n",
       "      <th>0</th>\n",
       "      <td>2014-08</td>\n",
       "      <td>2</td>\n",
       "    </tr>\n",
       "    <tr>\n",
       "      <th>1</th>\n",
       "      <td>2014-09</td>\n",
       "      <td>18</td>\n",
       "    </tr>\n",
       "    <tr>\n",
       "      <th>2</th>\n",
       "      <td>2014-10</td>\n",
       "      <td>91</td>\n",
       "    </tr>\n",
       "    <tr>\n",
       "      <th>3</th>\n",
       "      <td>2014-11</td>\n",
       "      <td>93</td>\n",
       "    </tr>\n",
       "    <tr>\n",
       "      <th>4</th>\n",
       "      <td>2014-12</td>\n",
       "      <td>97</td>\n",
       "    </tr>\n",
       "  </tbody>\n",
       "</table>\n",
       "</div>"
      ],
      "text/plain": [
       "      data  CNPJ\n",
       "0  2014-08     2\n",
       "1  2014-09    18\n",
       "2  2014-10    91\n",
       "3  2014-11    93\n",
       "4  2014-12    97"
      ]
     },
     "execution_count": 23,
     "metadata": {},
     "output_type": "execute_result"
    }
   ],
   "source": [
    "Num_Cliente .head()"
   ]
  },
  {
   "cell_type": "code",
   "execution_count": 24,
   "metadata": {},
   "outputs": [],
   "source": [
    "Num_Cliente = Num_Cliente.rename({'CNPJ':'NumDeClientes'}, axis=1)"
   ]
  },
  {
   "cell_type": "code",
   "execution_count": 25,
   "metadata": {},
   "outputs": [],
   "source": [
    "Supra_Kpi = pd.merge(Num_Cliente, Vendas, on = 'data')"
   ]
  },
  {
   "cell_type": "code",
   "execution_count": 26,
   "metadata": {},
   "outputs": [],
   "source": [
    "Supra_Kpi = Supra_Kpi.rename(columns={'data': 'mes'})"
   ]
  },
  {
   "cell_type": "markdown",
   "metadata": {},
   "source": [
    "#### Determines, for each Month, the number of different Products sold, the Number of Clients Served and the Monthly Billing"
   ]
  },
  {
   "cell_type": "code",
   "execution_count": 27,
   "metadata": {},
   "outputs": [],
   "source": [
    "Kpi = pd.merge(Supra_Kpi,Num_Produtos , on = 'mes')"
   ]
  },
  {
   "cell_type": "code",
   "execution_count": 28,
   "metadata": {},
   "outputs": [],
   "source": [
    "Kpi = Kpi[['mes', 'NumDeClientes','NumProdutos','Total_Vendas']] # Ordenando as colunas"
   ]
  },
  {
   "cell_type": "code",
   "execution_count": 29,
   "metadata": {},
   "outputs": [],
   "source": [
    "\n",
    "Kpi['Total_Vendas']  = Kpi['Total_Vendas'] /1000\n"
   ]
  },
  {
   "cell_type": "code",
   "execution_count": 30,
   "metadata": {},
   "outputs": [],
   "source": [
    "Kpi.to_csv('c:/mettricx/projetos/SupraAlimentos/PowerBI/Vendas.csv',decimal=',',float_format='%.2f',encoding='utf-8', index=False)"
   ]
  },
  {
   "cell_type": "code",
   "execution_count": 31,
   "metadata": {},
   "outputs": [
    {
     "data": {
      "text/plain": [
       "<matplotlib.axes._subplots.AxesSubplot at 0x23531270588>"
      ]
     },
     "execution_count": 31,
     "metadata": {},
     "output_type": "execute_result"
    },
    {
     "data": {
      "image/png": "[encoded data removed]",
      "text/plain": [
       "<Figure size 720x360 with 1 Axes>"
      ]
     },
     "metadata": {
      "needs_background": "light"
     },
     "output_type": "display_data"
    }
   ],
   "source": [
    "Kpi.plot(figsize=(10,5), linewidth=2, fontsize=10)"
   ]
  },
  {
   "cell_type": "code",
   "execution_count": 54,
   "metadata": {},
   "outputs": [],
   "source": [
    "y=Kpi[['Total_Vendas']]"
   ]
  },
  {
   "cell_type": "code",
   "execution_count": 55,
   "metadata": {},
   "outputs": [],
   "source": [
    "X=Kpi[['NumDeClientes','NumProdutos']]"
   ]
  },
  {
   "cell_type": "code",
   "execution_count": 34,
   "metadata": {},
   "outputs": [],
   "source": [
    "class color:\n",
    "   PURPLE = '\\033[95m'\n",
    "   CYAN = '\\033[96m'\n",
    "   DARKCYAN = '\\033[36m'\n",
    "   BLUE = '\\033[94m'\n",
    "   GREEN = '\\033[92m'\n",
    "   YELLOW = '\\033[93m'\n",
    "   RED = '\\033[91m'\n",
    "   BOLD = '\\033[1m'\n",
    "   UNDERLINE = '\\033[4m'\n",
    "   END = '\\033[0m'"
   ]
  },
  {
   "cell_type": "markdown",
   "metadata": {},
   "source": [
    "####  Model: Linear regression on multiple variable"
   ]
  },
  {
   "cell_type": "code",
   "execution_count": 35,
   "metadata": {},
   "outputs": [],
   "source": [
    "#  Adjusted R2 judges goodness of the model\n",
    "#  Parameters:  fitted linear model, y value, estimated y value"
   ]
  },
  {
   "cell_type": "code",
   "execution_count": 36,
   "metadata": {},
   "outputs": [],
   "source": [
    "def adj_r2_score(model,y,yhat):     \n",
    "              \n",
    "        from sklearn import metrics\n",
    "        adj = 1 - float(len(y)-1)/(len(y)-len(model.coef_)-1)*(1 - metrics.r2_score(y,yhat))\n",
    "        return adj"
   ]
  },
  {
   "cell_type": "code",
   "execution_count": 37,
   "metadata": {},
   "outputs": [],
   "source": [
    "from sklearn.model_selection import train_test_split\n",
    "X_train, X_test, y_train, y_test = train_test_split(X, y, test_size=0.3, random_state=101)\n",
    "        "
   ]
  },
  {
   "cell_type": "code",
   "execution_count": 38,
   "metadata": {},
   "outputs": [],
   "source": [
    "from sklearn.linear_model import LinearRegression\n",
    "from sklearn import metrics\n",
    "    \n",
    "reg =  LinearRegression()\n",
    "reg.fit(X_train,y_train)\n",
    "predictions = reg.predict(X_test)"
   ]
  },
  {
   "cell_type": "markdown",
   "metadata": {},
   "source": [
    "#### R2 - Variance score:"
   ]
  },
  {
   "cell_type": "code",
   "execution_count": 39,
   "metadata": {},
   "outputs": [
    {
     "name": "stdout",
     "output_type": "stream",
     "text": [
      "\u001b[1mR2 - Variance score: 0.85\u001b[0m\n",
      "\u001b[1mAdj R2 :  0.8389632989349266 \u001b[0m\n",
      "\n",
      "\u001b[1mPredictions  \t\u001b[0m\n",
      "6.13 \t\n",
      "318.65 \t\n",
      "368.80 \t\n",
      "174.75 \t\n",
      "463.41 \t\n",
      "221.19 \t\n",
      "179.02 \t\n",
      "192.04 \t\n",
      "160.29 \t\n",
      "349.08 \t\n",
      "290.84 \t\n",
      "426.29 \t\n",
      "316.39 \t\n"
     ]
    }
   ],
   "source": [
    "print(color.BOLD+'R2 - Variance score: %.2f'% metrics.r2_score(y_test, predictions)+color.END)\n",
    "print(color.BOLD+'Adj R2 : ', adj_r2_score(reg, y_test, predictions),color.END)\n",
    "print()\n",
    "print(color.BOLD+'Predictions ','\\t'+color.END)\n",
    "i=0\n",
    "for ind in predictions:\n",
    "    print('%.2f'% predictions[i],'\\t')\n",
    "    i += 1\n",
    "\n",
    "       "
   ]
  },
  {
   "cell_type": "markdown",
   "metadata": {},
   "source": [
    "#### Coefficients:"
   ]
  },
  {
   "cell_type": "code",
   "execution_count": 40,
   "metadata": {},
   "outputs": [
    {
     "name": "stdout",
     "output_type": "stream",
     "text": [
      "\n",
      "\u001b[1mCoefficients: \u001b[0m [[ 2.2635904  -0.27888964]]\n"
     ]
    }
   ],
   "source": [
    "print()\n",
    "print(color.BOLD+'Coefficients: '+color.END, reg.coef_)\n"
   ]
  },
  {
   "cell_type": "markdown",
   "metadata": {},
   "source": [
    "#### RMSE"
   ]
  },
  {
   "cell_type": "code",
   "execution_count": 41,
   "metadata": {},
   "outputs": [
    {
     "name": "stdout",
     "output_type": "stream",
     "text": [
      "\n",
      "\u001b[1mErrors:\u001b[0m\n",
      "MAE: 40.66341770429293\n",
      "\u001b[91mMSE:\u001b[0m 2269.429637243676\n",
      "RMSE: 47.63853101475397\n",
      "\n"
     ]
    }
   ],
   "source": [
    "print()\n",
    "print('\\033[1m' +'Errors:'+'\\033[0m') \n",
    "print('MAE:', metrics.mean_absolute_error(y_test, predictions))\n",
    "print(color.RED+'MSE:'+color.END, metrics.mean_squared_error(y_test, predictions))\n",
    "print('RMSE:', np.sqrt(metrics.mean_squared_error(y_test, predictions)))\n",
    "print()"
   ]
  },
  {
   "cell_type": "code",
   "execution_count": 42,
   "metadata": {},
   "outputs": [],
   "source": [
    "import statsmodels.api as sm"
   ]
  },
  {
   "cell_type": "code",
   "execution_count": 43,
   "metadata": {},
   "outputs": [],
   "source": [
    "model = sm.OLS(y,X)"
   ]
  },
  {
   "cell_type": "code",
   "execution_count": 44,
   "metadata": {},
   "outputs": [],
   "source": [
    "results = model.fit()\n"
   ]
  },
  {
   "cell_type": "code",
   "execution_count": 45,
   "metadata": {},
   "outputs": [
    {
     "name": "stdout",
     "output_type": "stream",
     "text": [
      "                            OLS Regression Results                            \n",
      "==============================================================================\n",
      "Dep. Variable:           Total_Vendas   R-squared:                       0.979\n",
      "Model:                            OLS   Adj. R-squared:                  0.978\n",
      "Method:                 Least Squares   F-statistic:                     951.4\n",
      "Date:                Tue, 26 Feb 2019   Prob (F-statistic):           4.42e-35\n",
      "Time:                        10:18:29   Log-Likelihood:                -222.73\n",
      "No. Observations:                  43   AIC:                             449.5\n",
      "Df Residuals:                      41   BIC:                             453.0\n",
      "Df Model:                           2                                         \n",
      "Covariance Type:            nonrobust                                         \n",
      "=================================================================================\n",
      "                    coef    std err          t      P>|t|      [0.025      0.975]\n",
      "---------------------------------------------------------------------------------\n",
      "NumDeClientes     2.1315      0.183     11.663      0.000       1.762       2.501\n",
      "NumProdutos      -0.1351      0.109     -1.238      0.223      -0.356       0.085\n",
      "==============================================================================\n",
      "Omnibus:                        0.280   Durbin-Watson:                   1.580\n",
      "Prob(Omnibus):                  0.870   Jarque-Bera (JB):                0.454\n",
      "Skew:                           0.139   Prob(JB):                        0.797\n",
      "Kurtosis:                       2.580   Cond. No.                         9.36\n",
      "==============================================================================\n",
      "\n",
      "Warnings:\n",
      "[1] Standard Errors assume that the covariance matrix of the errors is correctly specified.\n"
     ]
    }
   ],
   "source": [
    "print(results.summary())"
   ]
  },
  {
   "cell_type": "code",
   "execution_count": null,
   "metadata": {},
   "outputs": [],
   "source": []
  },
  {
   "cell_type": "code",
   "execution_count": 103,
   "metadata": {},
   "outputs": [
    {
     "name": "stdout",
     "output_type": "stream",
     "text": [
      "NumDeClientes : 2.1314579048876854\n",
      "NumProdutos   : -0.1351390420511852\n"
     ]
    }
   ],
   "source": [
    "print('NumDeClientes : '+str(results.params[0]))\n",
    "print('NumProdutos   : '+str(results.params[1]))"
   ]
  },
  {
   "cell_type": "code",
   "execution_count": 110,
   "metadata": {},
   "outputs": [],
   "source": [
    "Produto = 231"
   ]
  },
  {
   "cell_type": "code",
   "execution_count": 111,
   "metadata": {},
   "outputs": [],
   "source": [
    "Clientes = 94"
   ]
  },
  {
   "cell_type": "code",
   "execution_count": 112,
   "metadata": {},
   "outputs": [],
   "source": [
    "Total = 2.1314579048876854*Clientes + -0.1351390420511852*Produto"
   ]
  },
  {
   "cell_type": "code",
   "execution_count": 115,
   "metadata": {},
   "outputs": [
    {
     "data": {
      "text/plain": [
       "9.935800621526477"
      ]
     },
     "execution_count": 115,
     "metadata": {},
     "output_type": "execute_result"
    }
   ],
   "source": [
    "((185.94533 - Total)/Total)*100"
   ]
  },
  {
   "cell_type": "markdown",
   "metadata": {},
   "source": [
    "#### P-Value"
   ]
  },
  {
   "cell_type": "markdown",
   "metadata": {},
   "source": [
    "The p-value for each term tests the null hypothesis that the coefficient is equal to zero (no effect). \n",
    "\n",
    "A low p-value (< 0.05) indicates that you can reject the null hypothesis. In other words, a predictor that has a low p-value is likely to be a meaningful addition to your model because changes in the predictor's value are related to changes in the response variable."
   ]
  },
  {
   "cell_type": "markdown",
   "metadata": {},
   "source": [
    "#### Adj. R-Squared"
   ]
  },
  {
   "cell_type": "markdown",
   "metadata": {},
   "source": [
    "The adjusted R-squared compares the descriptive power of regression models that include diverse numbers of predictors. \n",
    "\n",
    "Every predictor added to a model increases R-squared and never decreases it. \n",
    "Thus, a model with more terms may seem to have a better fit just for the fact that it has more terms, \n",
    "while the adjusted R-squared compensates for the addition of variables and only increases if the new term enhances \n",
    "the model above what would be obtained by probability and decreases when a predictor enhances the model less than what is predicted by chance. \n",
    "In an overfitting condition, an incorrectly high value of R-squared, which leads to a decreased ability to predict, is obtained. \n",
    "This is not the case with the adjusted R-squared."
   ]
  },
  {
   "cell_type": "code",
   "execution_count": 73,
   "metadata": {},
   "outputs": [],
   "source": [
    "Xcoef=Kpi[['Total_Vendas','NumDeClientes']]"
   ]
  },
  {
   "cell_type": "code",
   "execution_count": 74,
   "metadata": {},
   "outputs": [
    {
     "name": "stderr",
     "output_type": "stream",
     "text": [
      "C:\\Users\\leona\\Anaconda3\\lib\\site-packages\\scipy\\stats\\stats.py:1713: FutureWarning: Using a non-tuple sequence for multidimensional indexing is deprecated; use `arr[tuple(seq)]` instead of `arr[seq]`. In the future this will be interpreted as an array index, `arr[np.array(seq)]`, which will result either in an error or a different result.\n",
      "  return np.add.reduce(sorted[indexer] * weights, axis=axis) / sumval\n"
     ]
    },
    {
     "data": {
      "image/png": "[encoded data removed]",
      "text/plain": [
       "<Figure size 360x360 with 1 Axes>"
      ]
     },
     "metadata": {},
     "output_type": "display_data"
    }
   ],
   "source": [
    "import seaborn as sns; sns.set(color_codes=True)\n",
    "#tips = sns.load_dataset(\"tips\")\n",
    "g = sns.lmplot(x=\"NumDeClientes\", y=\"Total_Vendas\", data=Xcoef)"
   ]
  },
  {
   "cell_type": "markdown",
   "metadata": {},
   "source": [
    "#### Using Cross Validation"
   ]
  },
  {
   "cell_type": "code",
   "execution_count": 116,
   "metadata": {},
   "outputs": [
    {
     "name": "stdout",
     "output_type": "stream",
     "text": [
      "Coefficient of determination on training set: 0.8918287448795826\n",
      "\n",
      "\u001b[1mCrossvalidation:\u001b[0m 46.288946675870875\n",
      "\n",
      "[ 49.87455017  31.52865771  19.50164525  26.51102916  29.72882184\n",
      "  34.2943409   60.54445795  27.39466568  81.53380237 101.97749572]\n"
     ]
    }
   ],
   "source": [
    "from sklearn.model_selection import cross_val_score\n",
    "from sklearn.model_selection import KFold\n",
    "        \n",
    "print(\"Coefficient of determination on training set:\",reg.score(X_train, y_train)) \n",
    "# create a k-fold cross validation iterator of k=5 folds\n",
    "cv = KFold(n_splits = 5, shuffle=True,random_state=33)\n",
    "        \n",
    "print()\n",
    "scores = cross_val_score(reg, X, y, cv=10, scoring='neg_mean_squared_error')\n",
    "mse_scores = -scores\n",
    "rmse_scores = np.sqrt(mse_scores)\n",
    "        \n",
    "print(color.BOLD+\"Crossvalidation:\"+color.END,rmse_scores.mean()) \n",
    "print()\n",
    "print( rmse_scores)\n",
    "    "
   ]
  },
  {
   "cell_type": "code",
   "execution_count": 117,
   "metadata": {},
   "outputs": [
    {
     "data": {
      "text/plain": [
       "numpy.ndarray"
      ]
     },
     "execution_count": 117,
     "metadata": {},
     "output_type": "execute_result"
    }
   ],
   "source": [
    "type(rmse_scores)"
   ]
  },
  {
   "cell_type": "markdown",
   "metadata": {},
   "source": [
    "#### DECISION TREE"
   ]
  },
  {
   "cell_type": "code",
   "execution_count": 118,
   "metadata": {},
   "outputs": [
    {
     "name": "stdout",
     "output_type": "stream",
     "text": [
      "\n",
      "\u001b[1mErrors:\u001b[0m\n",
      "\u001b[91mMSE:\u001b[0m 5877.26\n",
      "RMSE: 76.66\n"
     ]
    }
   ],
   "source": [
    "        from sklearn.tree import DecisionTreeRegressor\n",
    "        from sklearn import metrics\n",
    "    \n",
    "        tree_reg = DecisionTreeRegressor()\n",
    "        tree_reg.fit(X_train,y_train)\n",
    "        predictions = tree_reg.predict(X_test)\n",
    "\n",
    "        print()\n",
    "        print('\\033[1m' +'Errors:'+'\\033[0m') \n",
    "        print(color.RED+'MSE:'+color.END,'%.2f'% metrics.mean_squared_error(y_test, predictions))\n",
    "        print('RMSE:', '%.2f'% np.sqrt(metrics.mean_squared_error(y_test, predictions)))"
   ]
  },
  {
   "cell_type": "code",
   "execution_count": 119,
   "metadata": {},
   "outputs": [
    {
     "data": {
      "text/plain": [
       "<function sklearn.metrics.regression.mean_squared_error(y_true, y_pred, sample_weight=None, multioutput='uniform_average')>"
      ]
     },
     "execution_count": 119,
     "metadata": {},
     "output_type": "execute_result"
    }
   ],
   "source": [
    "metrics.mean_squared_error"
   ]
  },
  {
   "cell_type": "code",
   "execution_count": 120,
   "metadata": {},
   "outputs": [
    {
     "name": "stdout",
     "output_type": "stream",
     "text": [
      "91.56 \t\n",
      "294.93 \t\n",
      "324.98 \t\n",
      "170.53 \t\n",
      "349.61 \t\n",
      "214.79 \t\n",
      "170.53 \t\n",
      "170.53 \t\n",
      "259.09 \t\n",
      "402.65 \t\n",
      "216.61 \t\n",
      "330.43 \t\n",
      "294.93 \t\n"
     ]
    }
   ],
   "source": [
    "i=0\n",
    "for ind in predictions:\n",
    "    print('%.2f'% predictions[i],'\\t')\n",
    "    i += 1"
   ]
  },
  {
   "cell_type": "code",
   "execution_count": null,
   "metadata": {},
   "outputs": [],
   "source": []
  }
 ],
 "metadata": {
  "kernelspec": {
   "display_name": "Python 3",
   "language": "python",
   "name": "python3"
  },
  "language_info": {
   "codemirror_mode": {
    "name": "ipython",
    "version": 3
   },
   "file_extension": ".py",
   "mimetype": "text/x-python",
   "name": "python",
   "nbconvert_exporter": "python",
   "pygments_lexer": "ipython3",
   "version": "3.6.5"
  }
 },
 "nbformat": 4,
 "nbformat_minor": 2
}
